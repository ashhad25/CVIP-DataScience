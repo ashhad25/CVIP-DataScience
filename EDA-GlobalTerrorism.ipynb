{
 "cells": [
  {
   "attachments": {},
   "cell_type": "markdown",
   "metadata": {},
   "source": [
    "# Import Libraries"
   ]
  },
  {
   "cell_type": "code",
   "execution_count": 20,
   "metadata": {},
   "outputs": [],
   "source": [
    "import pandas as pd\n",
    "import matplotlib.pyplot as plt\n",
    "import seaborn as sns\n",
    "import numpy as np"
   ]
  },
  {
   "cell_type": "markdown",
   "metadata": {},
   "source": [
    "# Load the file and read the data"
   ]
  },
  {
   "cell_type": "code",
   "execution_count": 21,
   "metadata": {},
   "outputs": [
    {
     "name": "stderr",
     "output_type": "stream",
     "text": [
      "C:\\Users\\stech\\AppData\\Local\\Temp\\ipykernel_32824\\1990408469.py:1: DtypeWarning:\n",
      "\n",
      "Columns (4,6,31,33,61,62,63,76,79,90,92,94,96,114,115,121) have mixed types. Specify dtype option on import or set low_memory=False.\n",
      "\n"
     ]
    },
    {
     "data": {
      "text/html": [
       "<div>\n",
       "<style scoped>\n",
       "    .dataframe tbody tr th:only-of-type {\n",
       "        vertical-align: middle;\n",
       "    }\n",
       "\n",
       "    .dataframe tbody tr th {\n",
       "        vertical-align: top;\n",
       "    }\n",
       "\n",
       "    .dataframe thead th {\n",
       "        text-align: right;\n",
       "    }\n",
       "</style>\n",
       "<table border=\"1\" class=\"dataframe\">\n",
       "  <thead>\n",
       "    <tr style=\"text-align: right;\">\n",
       "      <th></th>\n",
       "      <th>eventid</th>\n",
       "      <th>iyear</th>\n",
       "      <th>imonth</th>\n",
       "      <th>iday</th>\n",
       "      <th>approxdate</th>\n",
       "      <th>extended</th>\n",
       "      <th>resolution</th>\n",
       "      <th>country</th>\n",
       "      <th>country_txt</th>\n",
       "      <th>region</th>\n",
       "      <th>...</th>\n",
       "      <th>addnotes</th>\n",
       "      <th>scite1</th>\n",
       "      <th>scite2</th>\n",
       "      <th>scite3</th>\n",
       "      <th>dbsource</th>\n",
       "      <th>INT_LOG</th>\n",
       "      <th>INT_IDEO</th>\n",
       "      <th>INT_MISC</th>\n",
       "      <th>INT_ANY</th>\n",
       "      <th>related</th>\n",
       "    </tr>\n",
       "  </thead>\n",
       "  <tbody>\n",
       "    <tr>\n",
       "      <th>0</th>\n",
       "      <td>197000000001</td>\n",
       "      <td>1970</td>\n",
       "      <td>7</td>\n",
       "      <td>2</td>\n",
       "      <td>NaN</td>\n",
       "      <td>0</td>\n",
       "      <td>NaN</td>\n",
       "      <td>58</td>\n",
       "      <td>Dominican Republic</td>\n",
       "      <td>2</td>\n",
       "      <td>...</td>\n",
       "      <td>NaN</td>\n",
       "      <td>NaN</td>\n",
       "      <td>NaN</td>\n",
       "      <td>NaN</td>\n",
       "      <td>PGIS</td>\n",
       "      <td>0</td>\n",
       "      <td>0</td>\n",
       "      <td>0</td>\n",
       "      <td>0</td>\n",
       "      <td>NaN</td>\n",
       "    </tr>\n",
       "    <tr>\n",
       "      <th>1</th>\n",
       "      <td>197000000002</td>\n",
       "      <td>1970</td>\n",
       "      <td>0</td>\n",
       "      <td>0</td>\n",
       "      <td>NaN</td>\n",
       "      <td>0</td>\n",
       "      <td>NaN</td>\n",
       "      <td>130</td>\n",
       "      <td>Mexico</td>\n",
       "      <td>1</td>\n",
       "      <td>...</td>\n",
       "      <td>NaN</td>\n",
       "      <td>NaN</td>\n",
       "      <td>NaN</td>\n",
       "      <td>NaN</td>\n",
       "      <td>PGIS</td>\n",
       "      <td>0</td>\n",
       "      <td>1</td>\n",
       "      <td>1</td>\n",
       "      <td>1</td>\n",
       "      <td>NaN</td>\n",
       "    </tr>\n",
       "    <tr>\n",
       "      <th>2</th>\n",
       "      <td>197001000001</td>\n",
       "      <td>1970</td>\n",
       "      <td>1</td>\n",
       "      <td>0</td>\n",
       "      <td>NaN</td>\n",
       "      <td>0</td>\n",
       "      <td>NaN</td>\n",
       "      <td>160</td>\n",
       "      <td>Philippines</td>\n",
       "      <td>5</td>\n",
       "      <td>...</td>\n",
       "      <td>NaN</td>\n",
       "      <td>NaN</td>\n",
       "      <td>NaN</td>\n",
       "      <td>NaN</td>\n",
       "      <td>PGIS</td>\n",
       "      <td>-9</td>\n",
       "      <td>-9</td>\n",
       "      <td>1</td>\n",
       "      <td>1</td>\n",
       "      <td>NaN</td>\n",
       "    </tr>\n",
       "    <tr>\n",
       "      <th>3</th>\n",
       "      <td>197001000002</td>\n",
       "      <td>1970</td>\n",
       "      <td>1</td>\n",
       "      <td>0</td>\n",
       "      <td>NaN</td>\n",
       "      <td>0</td>\n",
       "      <td>NaN</td>\n",
       "      <td>78</td>\n",
       "      <td>Greece</td>\n",
       "      <td>8</td>\n",
       "      <td>...</td>\n",
       "      <td>NaN</td>\n",
       "      <td>NaN</td>\n",
       "      <td>NaN</td>\n",
       "      <td>NaN</td>\n",
       "      <td>PGIS</td>\n",
       "      <td>-9</td>\n",
       "      <td>-9</td>\n",
       "      <td>1</td>\n",
       "      <td>1</td>\n",
       "      <td>NaN</td>\n",
       "    </tr>\n",
       "    <tr>\n",
       "      <th>4</th>\n",
       "      <td>197001000003</td>\n",
       "      <td>1970</td>\n",
       "      <td>1</td>\n",
       "      <td>0</td>\n",
       "      <td>NaN</td>\n",
       "      <td>0</td>\n",
       "      <td>NaN</td>\n",
       "      <td>101</td>\n",
       "      <td>Japan</td>\n",
       "      <td>4</td>\n",
       "      <td>...</td>\n",
       "      <td>NaN</td>\n",
       "      <td>NaN</td>\n",
       "      <td>NaN</td>\n",
       "      <td>NaN</td>\n",
       "      <td>PGIS</td>\n",
       "      <td>-9</td>\n",
       "      <td>-9</td>\n",
       "      <td>1</td>\n",
       "      <td>1</td>\n",
       "      <td>NaN</td>\n",
       "    </tr>\n",
       "  </tbody>\n",
       "</table>\n",
       "<p>5 rows × 135 columns</p>\n",
       "</div>"
      ],
      "text/plain": [
       "        eventid  iyear  imonth  iday approxdate  extended resolution  country  \\\n",
       "0  197000000001   1970       7     2        NaN         0        NaN       58   \n",
       "1  197000000002   1970       0     0        NaN         0        NaN      130   \n",
       "2  197001000001   1970       1     0        NaN         0        NaN      160   \n",
       "3  197001000002   1970       1     0        NaN         0        NaN       78   \n",
       "4  197001000003   1970       1     0        NaN         0        NaN      101   \n",
       "\n",
       "          country_txt  region  ... addnotes scite1 scite2  scite3  dbsource  \\\n",
       "0  Dominican Republic       2  ...      NaN    NaN    NaN     NaN      PGIS   \n",
       "1              Mexico       1  ...      NaN    NaN    NaN     NaN      PGIS   \n",
       "2         Philippines       5  ...      NaN    NaN    NaN     NaN      PGIS   \n",
       "3              Greece       8  ...      NaN    NaN    NaN     NaN      PGIS   \n",
       "4               Japan       4  ...      NaN    NaN    NaN     NaN      PGIS   \n",
       "\n",
       "   INT_LOG  INT_IDEO INT_MISC INT_ANY  related  \n",
       "0        0         0        0       0      NaN  \n",
       "1        0         1        1       1      NaN  \n",
       "2       -9        -9        1       1      NaN  \n",
       "3       -9        -9        1       1      NaN  \n",
       "4       -9        -9        1       1      NaN  \n",
       "\n",
       "[5 rows x 135 columns]"
      ]
     },
     "execution_count": 21,
     "metadata": {},
     "output_type": "execute_result"
    }
   ],
   "source": [
    "data = pd.read_csv(\"globalterrorismdb.csv\", encoding=\"latin1\")\n",
    "data.head()"
   ]
  },
  {
   "cell_type": "markdown",
   "metadata": {},
   "source": [
    "# Perform EDA"
   ]
  },
  {
   "cell_type": "markdown",
   "metadata": {},
   "source": [
    "- Understand the Dataset: Start by gaining a high-level understanding of the dataset. Look at the dataset's structure, the number of rows and columns, and the data types of each column. This step helps you get familiar with the data you'll be working with.\n",
    "\n",
    "- Handle Missing Data: Identify missing values in the dataset and decide how to handle them. Depending on the amount and nature of missing data, you can choose to drop rows or columns with missing values, impute missing values with suitable methods, or keep missing values as a separate category if applicable.\n",
    "\n",
    "- Deal with Duplicates: Check for duplicate records in the dataset. If duplicates exist, decide whether to remove them or handle them based on the specific analysis requirements.\n",
    "\n",
    "- Examine Descriptive Statistics: Calculate descriptive statistics for numerical variables such as mean, median, standard deviation, minimum, and maximum values. This step provides a summary of the central tendency and spread of the data.\n",
    "\n",
    "- Visualize the Data: Use various plots and charts to visualize the data and identify patterns, trends, or outliers. Some commonly used visualizations include histograms, scatter plots, bar charts, box plots, and correlation matrices."
   ]
  },
  {
   "cell_type": "code",
   "execution_count": 22,
   "metadata": {},
   "outputs": [],
   "source": [
    "# check for the column names\n",
    "columns = list(data.columns)"
   ]
  },
  {
   "cell_type": "code",
   "execution_count": 23,
   "metadata": {},
   "outputs": [],
   "source": [
    "#Renaming the columns for ease of using them later\n",
    "data.rename(columns={'iyear':'Year','imonth':'Month','iday':'Day','country_txt':'Country','provstate':'state',\n",
    "                     'region_txt':'Region','attacktype1_txt':'AttackType','target1':'Target','nkill':'Killed',\n",
    "                     'nwound': 'Wounded','summary':'Summary','gname':'Group','targtype1_txt':'Target_type',\n",
    "                     'weaptype1_txt':'Weapon_type','motive':'Motive'\n",
    "                    },inplace=True)"
   ]
  },
  {
   "cell_type": "code",
   "execution_count": 24,
   "metadata": {},
   "outputs": [],
   "source": [
    "#getting only the columns to be used\n",
    "data = data[['Year','Month','Day','Country','Region','state','city','latitude','longitude','AttackType','Killed','Wounded','Target',\n",
    "            'Target','Summary','Group','Target_type','Weapon_type','Motive']]"
   ]
  },
  {
   "cell_type": "code",
   "execution_count": 25,
   "metadata": {},
   "outputs": [
    {
     "data": {
      "text/plain": [
       "(181691, 19)"
      ]
     },
     "execution_count": 25,
     "metadata": {},
     "output_type": "execute_result"
    }
   ],
   "source": [
    "# check rows and columns\n",
    "data.shape"
   ]
  },
  {
   "cell_type": "code",
   "execution_count": 26,
   "metadata": {},
   "outputs": [
    {
     "data": {
      "text/plain": [
       "Year                0\n",
       "Month               0\n",
       "Day                 0\n",
       "Country             0\n",
       "Region              0\n",
       "state             421\n",
       "city              434\n",
       "latitude         4556\n",
       "longitude        4557\n",
       "AttackType          0\n",
       "Killed          10313\n",
       "Wounded         16311\n",
       "Target            636\n",
       "Target            636\n",
       "Summary         66129\n",
       "Group               0\n",
       "Target_type         0\n",
       "Weapon_type         0\n",
       "Motive         131130\n",
       "dtype: int64"
      ]
     },
     "execution_count": 26,
     "metadata": {},
     "output_type": "execute_result"
    }
   ],
   "source": [
    "# check for the null values\n",
    "data.isnull().sum()"
   ]
  },
  {
   "cell_type": "code",
   "execution_count": 27,
   "metadata": {},
   "outputs": [],
   "source": [
    "# dropping all null values and saving it to another variable\n",
    "data2 = data.dropna(axis=0)"
   ]
  },
  {
   "cell_type": "code",
   "execution_count": 28,
   "metadata": {},
   "outputs": [
    {
     "data": {
      "text/plain": [
       "(46556, 19)"
      ]
     },
     "execution_count": 28,
     "metadata": {},
     "output_type": "execute_result"
    }
   ],
   "source": [
    "# again checking shape for confirmation\n",
    "data2.shape"
   ]
  },
  {
   "cell_type": "code",
   "execution_count": 29,
   "metadata": {},
   "outputs": [
    {
     "data": {
      "text/plain": [
       "Year           0\n",
       "Month          0\n",
       "Day            0\n",
       "Country        0\n",
       "Region         0\n",
       "state          0\n",
       "city           0\n",
       "latitude       0\n",
       "longitude      0\n",
       "AttackType     0\n",
       "Killed         0\n",
       "Wounded        0\n",
       "Target         0\n",
       "Target         0\n",
       "Summary        0\n",
       "Group          0\n",
       "Target_type    0\n",
       "Weapon_type    0\n",
       "Motive         0\n",
       "dtype: int64"
      ]
     },
     "execution_count": 29,
     "metadata": {},
     "output_type": "execute_result"
    }
   ],
   "source": [
    "# again checking null values for confirmation\n",
    "data2.isnull().sum()"
   ]
  },
  {
   "cell_type": "code",
   "execution_count": 30,
   "metadata": {},
   "outputs": [
    {
     "name": "stdout",
     "output_type": "stream",
     "text": [
      "<class 'pandas.core.frame.DataFrame'>\n",
      "Int64Index: 46556 entries, 5 to 181683\n",
      "Data columns (total 19 columns):\n",
      " #   Column       Non-Null Count  Dtype  \n",
      "---  ------       --------------  -----  \n",
      " 0   Year         46556 non-null  int64  \n",
      " 1   Month        46556 non-null  int64  \n",
      " 2   Day          46556 non-null  int64  \n",
      " 3   Country      46556 non-null  object \n",
      " 4   Region       46556 non-null  object \n",
      " 5   state        46556 non-null  object \n",
      " 6   city         46556 non-null  object \n",
      " 7   latitude     46556 non-null  float64\n",
      " 8   longitude    46556 non-null  float64\n",
      " 9   AttackType   46556 non-null  object \n",
      " 10  Killed       46556 non-null  float64\n",
      " 11  Wounded      46556 non-null  float64\n",
      " 12  Target       46556 non-null  object \n",
      " 13  Target       46556 non-null  object \n",
      " 14  Summary      46556 non-null  object \n",
      " 15  Group        46556 non-null  object \n",
      " 16  Target_type  46556 non-null  object \n",
      " 17  Weapon_type  46556 non-null  object \n",
      " 18  Motive       46556 non-null  object \n",
      "dtypes: float64(4), int64(3), object(12)\n",
      "memory usage: 7.1+ MB\n"
     ]
    }
   ],
   "source": [
    "# the summary of the data\n",
    "data2.info()"
   ]
  },
  {
   "cell_type": "code",
   "execution_count": 31,
   "metadata": {},
   "outputs": [
    {
     "name": "stdout",
     "output_type": "stream",
     "text": [
      "Most Attacked\n",
      "Country :  Iraq\n",
      "Region : South Asia\n",
      "Year :  2011\n",
      "Month :  7\n",
      "Type:  Bombing/Explosion\n"
     ]
    }
   ],
   "source": [
    "# some information which shows us the following perspective\n",
    "\n",
    "print(\"Most Attacked\")\n",
    "print(\"Country : \",data2['Country'].value_counts().idxmax())\n",
    "print('Region :',data2['Region'].value_counts().idxmax())\n",
    "print('Year : ',data2['Year'].value_counts().idxmax())\n",
    "print('Month : ',data2['Month'].value_counts().idxmax())\n",
    "print('Type: ',data2['AttackType'].value_counts().idxmax())"
   ]
  },
  {
   "cell_type": "code",
   "execution_count": 32,
   "metadata": {},
   "outputs": [
    {
     "data": {
      "text/plain": [
       "Index(['Year', 'Month', 'Day', 'Country', 'Region', 'state', 'city',\n",
       "       'latitude', 'longitude', 'AttackType', 'Killed', 'Wounded', 'Target',\n",
       "       'Target', 'Summary', 'Group', 'Target_type', 'Weapon_type', 'Motive'],\n",
       "      dtype='object')"
      ]
     },
     "execution_count": 32,
     "metadata": {},
     "output_type": "execute_result"
    }
   ],
   "source": [
    "# checking for the column names\n",
    "data2.columns"
   ]
  },
  {
   "cell_type": "code",
   "execution_count": 33,
   "metadata": {},
   "outputs": [],
   "source": [
    "# as we can see there are two Target named columns lets remove one\n",
    "data2 = data2.loc[:, ~data2.columns.duplicated()]"
   ]
  },
  {
   "cell_type": "markdown",
   "metadata": {},
   "source": [
    "# Choropleth Map:\n",
    "- An interactive choropleth map to visualize the distribution of terrorist attacks across different countries or regions. Use Plotly library to create the interactive map."
   ]
  },
  {
   "cell_type": "code",
   "execution_count": 34,
   "metadata": {},
   "outputs": [
    {
     "data": {
      "application/vnd.plotly.v1+json": {
       "config": {
        "plotlyServerURL": "https://plot.ly"
       },
       "data": [
        {
         "coloraxis": "coloraxis",
         "geo": "geo",
         "hovertemplate": "<b>%{hovertext}</b><br><br>Country=%{location}<br>Number of Attacks=%{z}<extra></extra>",
         "hovertext": [
          "Iraq",
          "India",
          "Pakistan",
          "Afghanistan",
          "Philippines",
          "Thailand",
          "Russia",
          "United States",
          "Colombia",
          "Algeria",
          "Somalia",
          "Nepal",
          "Sri Lanka",
          "Nigeria",
          "United Kingdom",
          "West Bank and Gaza Strip",
          "Bangladesh",
          "Israel",
          "Yemen",
          "Turkey",
          "Greece",
          "Spain",
          "Indonesia",
          "France",
          "Libya",
          "Lebanon",
          "Egypt",
          "Sudan",
          "Syria",
          "Democratic Republic of the Congo",
          "Kenya",
          "Burundi",
          "Kosovo",
          "Uganda",
          "Myanmar",
          "Germany",
          "Georgia",
          "Iran",
          "Italy",
          "Macedonia",
          "Ukraine",
          "Yugoslavia",
          "Angola",
          "China",
          "Mali",
          "South Africa",
          "Saudi Arabia",
          "Chile",
          "Mexico",
          "Central African Republic",
          "Ethiopia",
          "Bahrain",
          "Canada",
          "Sweden",
          "Japan",
          "Peru",
          "Bosnia-Herzegovina",
          "Venezuela",
          "Mozambique",
          "Niger",
          "Haiti",
          "Tajikistan",
          "Ecuador",
          "Cambodia",
          "Malaysia",
          "Tunisia",
          "Cameroon",
          "Ireland",
          "Chad",
          "Paraguay",
          "Rwanda",
          "Belgium",
          "Australia",
          "Sierra Leone",
          "Senegal",
          "Namibia",
          "Zimbabwe",
          "Jordan",
          "Kyrgyzstan",
          "Ivory Coast",
          "Argentina",
          "Netherlands",
          "Brazil",
          "Uzbekistan",
          "Zambia",
          "Switzerland",
          "Austria",
          "Tanzania",
          "South Sudan",
          "Czech Republic",
          "Guatemala",
          "Kazakhstan",
          "Bulgaria",
          "Albania",
          "Honduras",
          "Serbia-Montenegro",
          "Madagascar",
          "Azerbaijan",
          "Armenia",
          "Guinea",
          "Mauritania",
          "New Zealand",
          "Morocco",
          "Burkina Faso",
          "Maldives",
          "Laos",
          "Liberia",
          "Bolivia",
          "Guyana",
          "Croatia",
          "Latvia",
          "Belarus",
          "Fiji",
          "Guinea-Bissau",
          "Norway",
          "Kuwait",
          "Denmark",
          "Cyprus",
          "East Timor",
          "Taiwan",
          "Serbia",
          "Finland",
          "Republic of the Congo",
          "Macau",
          "Poland",
          "Swaziland",
          "Hungary",
          "Slovak Republic",
          "Hong Kong",
          "Montenegro",
          "South Korea",
          "Trinidad and Tobago",
          "Eritrea",
          "Vietnam",
          "Bhutan",
          "Estonia",
          "Solomon Islands",
          "Malta",
          "Gabon",
          "Panama",
          "Lesotho",
          "Moldova",
          "Qatar",
          "Nicaragua",
          "Portugal",
          "United Arab Emirates",
          "Uruguay",
          "Togo",
          "International",
          "St. Lucia",
          "Dominican Republic",
          "Slovenia",
          "Equatorial Guinea",
          "Malawi",
          "Romania",
          "Turkmenistan",
          "Gambia",
          "Jamaica",
          "Western Sahara",
          "Belize",
          "Cuba",
          "Djibouti",
          "Costa Rica",
          "Papua New Guinea"
         ],
         "locationmode": "country names",
         "locations": [
          "Iraq",
          "India",
          "Pakistan",
          "Afghanistan",
          "Philippines",
          "Thailand",
          "Russia",
          "United States",
          "Colombia",
          "Algeria",
          "Somalia",
          "Nepal",
          "Sri Lanka",
          "Nigeria",
          "United Kingdom",
          "West Bank and Gaza Strip",
          "Bangladesh",
          "Israel",
          "Yemen",
          "Turkey",
          "Greece",
          "Spain",
          "Indonesia",
          "France",
          "Libya",
          "Lebanon",
          "Egypt",
          "Sudan",
          "Syria",
          "Democratic Republic of the Congo",
          "Kenya",
          "Burundi",
          "Kosovo",
          "Uganda",
          "Myanmar",
          "Germany",
          "Georgia",
          "Iran",
          "Italy",
          "Macedonia",
          "Ukraine",
          "Yugoslavia",
          "Angola",
          "China",
          "Mali",
          "South Africa",
          "Saudi Arabia",
          "Chile",
          "Mexico",
          "Central African Republic",
          "Ethiopia",
          "Bahrain",
          "Canada",
          "Sweden",
          "Japan",
          "Peru",
          "Bosnia-Herzegovina",
          "Venezuela",
          "Mozambique",
          "Niger",
          "Haiti",
          "Tajikistan",
          "Ecuador",
          "Cambodia",
          "Malaysia",
          "Tunisia",
          "Cameroon",
          "Ireland",
          "Chad",
          "Paraguay",
          "Rwanda",
          "Belgium",
          "Australia",
          "Sierra Leone",
          "Senegal",
          "Namibia",
          "Zimbabwe",
          "Jordan",
          "Kyrgyzstan",
          "Ivory Coast",
          "Argentina",
          "Netherlands",
          "Brazil",
          "Uzbekistan",
          "Zambia",
          "Switzerland",
          "Austria",
          "Tanzania",
          "South Sudan",
          "Czech Republic",
          "Guatemala",
          "Kazakhstan",
          "Bulgaria",
          "Albania",
          "Honduras",
          "Serbia-Montenegro",
          "Madagascar",
          "Azerbaijan",
          "Armenia",
          "Guinea",
          "Mauritania",
          "New Zealand",
          "Morocco",
          "Burkina Faso",
          "Maldives",
          "Laos",
          "Liberia",
          "Bolivia",
          "Guyana",
          "Croatia",
          "Latvia",
          "Belarus",
          "Fiji",
          "Guinea-Bissau",
          "Norway",
          "Kuwait",
          "Denmark",
          "Cyprus",
          "East Timor",
          "Taiwan",
          "Serbia",
          "Finland",
          "Republic of the Congo",
          "Macau",
          "Poland",
          "Swaziland",
          "Hungary",
          "Slovak Republic",
          "Hong Kong",
          "Montenegro",
          "South Korea",
          "Trinidad and Tobago",
          "Eritrea",
          "Vietnam",
          "Bhutan",
          "Estonia",
          "Solomon Islands",
          "Malta",
          "Gabon",
          "Panama",
          "Lesotho",
          "Moldova",
          "Qatar",
          "Nicaragua",
          "Portugal",
          "United Arab Emirates",
          "Uruguay",
          "Togo",
          "International",
          "St. Lucia",
          "Dominican Republic",
          "Slovenia",
          "Equatorial Guinea",
          "Malawi",
          "Romania",
          "Turkmenistan",
          "Gambia",
          "Jamaica",
          "Western Sahara",
          "Belize",
          "Cuba",
          "Djibouti",
          "Costa Rica",
          "Papua New Guinea"
         ],
         "name": "",
         "type": "choropleth",
         "z": [
          8811,
          5427,
          4900,
          3206,
          2253,
          1782,
          1488,
          1426,
          1389,
          1328,
          1009,
          845,
          823,
          811,
          679,
          677,
          671,
          656,
          623,
          595,
          471,
          464,
          449,
          403,
          334,
          322,
          320,
          241,
          206,
          202,
          193,
          168,
          158,
          149,
          140,
          137,
          117,
          113,
          103,
          102,
          102,
          94,
          90,
          89,
          86,
          85,
          75,
          72,
          71,
          61,
          60,
          49,
          46,
          44,
          40,
          39,
          39,
          35,
          33,
          32,
          31,
          31,
          30,
          30,
          29,
          29,
          28,
          28,
          27,
          27,
          27,
          27,
          27,
          26,
          25,
          24,
          24,
          23,
          22,
          21,
          20,
          20,
          18,
          18,
          17,
          17,
          16,
          16,
          15,
          14,
          14,
          13,
          13,
          13,
          12,
          11,
          11,
          11,
          11,
          10,
          10,
          10,
          10,
          9,
          9,
          9,
          9,
          9,
          9,
          8,
          8,
          8,
          8,
          8,
          8,
          8,
          7,
          7,
          7,
          7,
          6,
          6,
          6,
          6,
          6,
          6,
          6,
          5,
          5,
          5,
          5,
          4,
          4,
          4,
          4,
          4,
          4,
          3,
          3,
          3,
          3,
          3,
          3,
          2,
          2,
          2,
          2,
          1,
          1,
          1,
          1,
          1,
          1,
          1,
          1,
          1,
          1,
          1,
          1,
          1,
          1,
          1,
          1,
          1
         ]
        }
       ],
       "layout": {
        "coloraxis": {
         "colorbar": {
          "title": {
           "text": "Number of Attacks"
          }
         },
         "colorscale": [
          [
           0,
           "rgb(255,245,240)"
          ],
          [
           0.125,
           "rgb(254,224,210)"
          ],
          [
           0.25,
           "rgb(252,187,161)"
          ],
          [
           0.375,
           "rgb(252,146,114)"
          ],
          [
           0.5,
           "rgb(251,106,74)"
          ],
          [
           0.625,
           "rgb(239,59,44)"
          ],
          [
           0.75,
           "rgb(203,24,29)"
          ],
          [
           0.875,
           "rgb(165,15,21)"
          ],
          [
           1,
           "rgb(103,0,13)"
          ]
         ]
        },
        "geo": {
         "center": {},
         "domain": {
          "x": [
           0,
           1
          ],
          "y": [
           0,
           1
          ]
         }
        },
        "legend": {
         "tracegroupgap": 0
        },
        "template": {
         "data": {
          "bar": [
           {
            "error_x": {
             "color": "#2a3f5f"
            },
            "error_y": {
             "color": "#2a3f5f"
            },
            "marker": {
             "line": {
              "color": "#E5ECF6",
              "width": 0.5
             },
             "pattern": {
              "fillmode": "overlay",
              "size": 10,
              "solidity": 0.2
             }
            },
            "type": "bar"
           }
          ],
          "barpolar": [
           {
            "marker": {
             "line": {
              "color": "#E5ECF6",
              "width": 0.5
             },
             "pattern": {
              "fillmode": "overlay",
              "size": 10,
              "solidity": 0.2
             }
            },
            "type": "barpolar"
           }
          ],
          "carpet": [
           {
            "aaxis": {
             "endlinecolor": "#2a3f5f",
             "gridcolor": "white",
             "linecolor": "white",
             "minorgridcolor": "white",
             "startlinecolor": "#2a3f5f"
            },
            "baxis": {
             "endlinecolor": "#2a3f5f",
             "gridcolor": "white",
             "linecolor": "white",
             "minorgridcolor": "white",
             "startlinecolor": "#2a3f5f"
            },
            "type": "carpet"
           }
          ],
          "choropleth": [
           {
            "colorbar": {
             "outlinewidth": 0,
             "ticks": ""
            },
            "type": "choropleth"
           }
          ],
          "contour": [
           {
            "colorbar": {
             "outlinewidth": 0,
             "ticks": ""
            },
            "colorscale": [
             [
              0,
              "#0d0887"
             ],
             [
              0.1111111111111111,
              "#46039f"
             ],
             [
              0.2222222222222222,
              "#7201a8"
             ],
             [
              0.3333333333333333,
              "#9c179e"
             ],
             [
              0.4444444444444444,
              "#bd3786"
             ],
             [
              0.5555555555555556,
              "#d8576b"
             ],
             [
              0.6666666666666666,
              "#ed7953"
             ],
             [
              0.7777777777777778,
              "#fb9f3a"
             ],
             [
              0.8888888888888888,
              "#fdca26"
             ],
             [
              1,
              "#f0f921"
             ]
            ],
            "type": "contour"
           }
          ],
          "contourcarpet": [
           {
            "colorbar": {
             "outlinewidth": 0,
             "ticks": ""
            },
            "type": "contourcarpet"
           }
          ],
          "heatmap": [
           {
            "colorbar": {
             "outlinewidth": 0,
             "ticks": ""
            },
            "colorscale": [
             [
              0,
              "#0d0887"
             ],
             [
              0.1111111111111111,
              "#46039f"
             ],
             [
              0.2222222222222222,
              "#7201a8"
             ],
             [
              0.3333333333333333,
              "#9c179e"
             ],
             [
              0.4444444444444444,
              "#bd3786"
             ],
             [
              0.5555555555555556,
              "#d8576b"
             ],
             [
              0.6666666666666666,
              "#ed7953"
             ],
             [
              0.7777777777777778,
              "#fb9f3a"
             ],
             [
              0.8888888888888888,
              "#fdca26"
             ],
             [
              1,
              "#f0f921"
             ]
            ],
            "type": "heatmap"
           }
          ],
          "heatmapgl": [
           {
            "colorbar": {
             "outlinewidth": 0,
             "ticks": ""
            },
            "colorscale": [
             [
              0,
              "#0d0887"
             ],
             [
              0.1111111111111111,
              "#46039f"
             ],
             [
              0.2222222222222222,
              "#7201a8"
             ],
             [
              0.3333333333333333,
              "#9c179e"
             ],
             [
              0.4444444444444444,
              "#bd3786"
             ],
             [
              0.5555555555555556,
              "#d8576b"
             ],
             [
              0.6666666666666666,
              "#ed7953"
             ],
             [
              0.7777777777777778,
              "#fb9f3a"
             ],
             [
              0.8888888888888888,
              "#fdca26"
             ],
             [
              1,
              "#f0f921"
             ]
            ],
            "type": "heatmapgl"
           }
          ],
          "histogram": [
           {
            "marker": {
             "pattern": {
              "fillmode": "overlay",
              "size": 10,
              "solidity": 0.2
             }
            },
            "type": "histogram"
           }
          ],
          "histogram2d": [
           {
            "colorbar": {
             "outlinewidth": 0,
             "ticks": ""
            },
            "colorscale": [
             [
              0,
              "#0d0887"
             ],
             [
              0.1111111111111111,
              "#46039f"
             ],
             [
              0.2222222222222222,
              "#7201a8"
             ],
             [
              0.3333333333333333,
              "#9c179e"
             ],
             [
              0.4444444444444444,
              "#bd3786"
             ],
             [
              0.5555555555555556,
              "#d8576b"
             ],
             [
              0.6666666666666666,
              "#ed7953"
             ],
             [
              0.7777777777777778,
              "#fb9f3a"
             ],
             [
              0.8888888888888888,
              "#fdca26"
             ],
             [
              1,
              "#f0f921"
             ]
            ],
            "type": "histogram2d"
           }
          ],
          "histogram2dcontour": [
           {
            "colorbar": {
             "outlinewidth": 0,
             "ticks": ""
            },
            "colorscale": [
             [
              0,
              "#0d0887"
             ],
             [
              0.1111111111111111,
              "#46039f"
             ],
             [
              0.2222222222222222,
              "#7201a8"
             ],
             [
              0.3333333333333333,
              "#9c179e"
             ],
             [
              0.4444444444444444,
              "#bd3786"
             ],
             [
              0.5555555555555556,
              "#d8576b"
             ],
             [
              0.6666666666666666,
              "#ed7953"
             ],
             [
              0.7777777777777778,
              "#fb9f3a"
             ],
             [
              0.8888888888888888,
              "#fdca26"
             ],
             [
              1,
              "#f0f921"
             ]
            ],
            "type": "histogram2dcontour"
           }
          ],
          "mesh3d": [
           {
            "colorbar": {
             "outlinewidth": 0,
             "ticks": ""
            },
            "type": "mesh3d"
           }
          ],
          "parcoords": [
           {
            "line": {
             "colorbar": {
              "outlinewidth": 0,
              "ticks": ""
             }
            },
            "type": "parcoords"
           }
          ],
          "pie": [
           {
            "automargin": true,
            "type": "pie"
           }
          ],
          "scatter": [
           {
            "fillpattern": {
             "fillmode": "overlay",
             "size": 10,
             "solidity": 0.2
            },
            "type": "scatter"
           }
          ],
          "scatter3d": [
           {
            "line": {
             "colorbar": {
              "outlinewidth": 0,
              "ticks": ""
             }
            },
            "marker": {
             "colorbar": {
              "outlinewidth": 0,
              "ticks": ""
             }
            },
            "type": "scatter3d"
           }
          ],
          "scattercarpet": [
           {
            "marker": {
             "colorbar": {
              "outlinewidth": 0,
              "ticks": ""
             }
            },
            "type": "scattercarpet"
           }
          ],
          "scattergeo": [
           {
            "marker": {
             "colorbar": {
              "outlinewidth": 0,
              "ticks": ""
             }
            },
            "type": "scattergeo"
           }
          ],
          "scattergl": [
           {
            "marker": {
             "colorbar": {
              "outlinewidth": 0,
              "ticks": ""
             }
            },
            "type": "scattergl"
           }
          ],
          "scattermapbox": [
           {
            "marker": {
             "colorbar": {
              "outlinewidth": 0,
              "ticks": ""
             }
            },
            "type": "scattermapbox"
           }
          ],
          "scatterpolar": [
           {
            "marker": {
             "colorbar": {
              "outlinewidth": 0,
              "ticks": ""
             }
            },
            "type": "scatterpolar"
           }
          ],
          "scatterpolargl": [
           {
            "marker": {
             "colorbar": {
              "outlinewidth": 0,
              "ticks": ""
             }
            },
            "type": "scatterpolargl"
           }
          ],
          "scatterternary": [
           {
            "marker": {
             "colorbar": {
              "outlinewidth": 0,
              "ticks": ""
             }
            },
            "type": "scatterternary"
           }
          ],
          "surface": [
           {
            "colorbar": {
             "outlinewidth": 0,
             "ticks": ""
            },
            "colorscale": [
             [
              0,
              "#0d0887"
             ],
             [
              0.1111111111111111,
              "#46039f"
             ],
             [
              0.2222222222222222,
              "#7201a8"
             ],
             [
              0.3333333333333333,
              "#9c179e"
             ],
             [
              0.4444444444444444,
              "#bd3786"
             ],
             [
              0.5555555555555556,
              "#d8576b"
             ],
             [
              0.6666666666666666,
              "#ed7953"
             ],
             [
              0.7777777777777778,
              "#fb9f3a"
             ],
             [
              0.8888888888888888,
              "#fdca26"
             ],
             [
              1,
              "#f0f921"
             ]
            ],
            "type": "surface"
           }
          ],
          "table": [
           {
            "cells": {
             "fill": {
              "color": "#EBF0F8"
             },
             "line": {
              "color": "white"
             }
            },
            "header": {
             "fill": {
              "color": "#C8D4E3"
             },
             "line": {
              "color": "white"
             }
            },
            "type": "table"
           }
          ]
         },
         "layout": {
          "annotationdefaults": {
           "arrowcolor": "#2a3f5f",
           "arrowhead": 0,
           "arrowwidth": 1
          },
          "autotypenumbers": "strict",
          "coloraxis": {
           "colorbar": {
            "outlinewidth": 0,
            "ticks": ""
           }
          },
          "colorscale": {
           "diverging": [
            [
             0,
             "#8e0152"
            ],
            [
             0.1,
             "#c51b7d"
            ],
            [
             0.2,
             "#de77ae"
            ],
            [
             0.3,
             "#f1b6da"
            ],
            [
             0.4,
             "#fde0ef"
            ],
            [
             0.5,
             "#f7f7f7"
            ],
            [
             0.6,
             "#e6f5d0"
            ],
            [
             0.7,
             "#b8e186"
            ],
            [
             0.8,
             "#7fbc41"
            ],
            [
             0.9,
             "#4d9221"
            ],
            [
             1,
             "#276419"
            ]
           ],
           "sequential": [
            [
             0,
             "#0d0887"
            ],
            [
             0.1111111111111111,
             "#46039f"
            ],
            [
             0.2222222222222222,
             "#7201a8"
            ],
            [
             0.3333333333333333,
             "#9c179e"
            ],
            [
             0.4444444444444444,
             "#bd3786"
            ],
            [
             0.5555555555555556,
             "#d8576b"
            ],
            [
             0.6666666666666666,
             "#ed7953"
            ],
            [
             0.7777777777777778,
             "#fb9f3a"
            ],
            [
             0.8888888888888888,
             "#fdca26"
            ],
            [
             1,
             "#f0f921"
            ]
           ],
           "sequentialminus": [
            [
             0,
             "#0d0887"
            ],
            [
             0.1111111111111111,
             "#46039f"
            ],
            [
             0.2222222222222222,
             "#7201a8"
            ],
            [
             0.3333333333333333,
             "#9c179e"
            ],
            [
             0.4444444444444444,
             "#bd3786"
            ],
            [
             0.5555555555555556,
             "#d8576b"
            ],
            [
             0.6666666666666666,
             "#ed7953"
            ],
            [
             0.7777777777777778,
             "#fb9f3a"
            ],
            [
             0.8888888888888888,
             "#fdca26"
            ],
            [
             1,
             "#f0f921"
            ]
           ]
          },
          "colorway": [
           "#636efa",
           "#EF553B",
           "#00cc96",
           "#ab63fa",
           "#FFA15A",
           "#19d3f3",
           "#FF6692",
           "#B6E880",
           "#FF97FF",
           "#FECB52"
          ],
          "font": {
           "color": "#2a3f5f"
          },
          "geo": {
           "bgcolor": "white",
           "lakecolor": "white",
           "landcolor": "#E5ECF6",
           "showlakes": true,
           "showland": true,
           "subunitcolor": "white"
          },
          "hoverlabel": {
           "align": "left"
          },
          "hovermode": "closest",
          "mapbox": {
           "style": "light"
          },
          "paper_bgcolor": "white",
          "plot_bgcolor": "#E5ECF6",
          "polar": {
           "angularaxis": {
            "gridcolor": "white",
            "linecolor": "white",
            "ticks": ""
           },
           "bgcolor": "#E5ECF6",
           "radialaxis": {
            "gridcolor": "white",
            "linecolor": "white",
            "ticks": ""
           }
          },
          "scene": {
           "xaxis": {
            "backgroundcolor": "#E5ECF6",
            "gridcolor": "white",
            "gridwidth": 2,
            "linecolor": "white",
            "showbackground": true,
            "ticks": "",
            "zerolinecolor": "white"
           },
           "yaxis": {
            "backgroundcolor": "#E5ECF6",
            "gridcolor": "white",
            "gridwidth": 2,
            "linecolor": "white",
            "showbackground": true,
            "ticks": "",
            "zerolinecolor": "white"
           },
           "zaxis": {
            "backgroundcolor": "#E5ECF6",
            "gridcolor": "white",
            "gridwidth": 2,
            "linecolor": "white",
            "showbackground": true,
            "ticks": "",
            "zerolinecolor": "white"
           }
          },
          "shapedefaults": {
           "line": {
            "color": "#2a3f5f"
           }
          },
          "ternary": {
           "aaxis": {
            "gridcolor": "white",
            "linecolor": "white",
            "ticks": ""
           },
           "baxis": {
            "gridcolor": "white",
            "linecolor": "white",
            "ticks": ""
           },
           "bgcolor": "#E5ECF6",
           "caxis": {
            "gridcolor": "white",
            "linecolor": "white",
            "ticks": ""
           }
          },
          "title": {
           "x": 0.05
          },
          "xaxis": {
           "automargin": true,
           "gridcolor": "white",
           "linecolor": "white",
           "ticks": "",
           "title": {
            "standoff": 15
           },
           "zerolinecolor": "white",
           "zerolinewidth": 2
          },
          "yaxis": {
           "automargin": true,
           "gridcolor": "white",
           "linecolor": "white",
           "ticks": "",
           "title": {
            "standoff": 15
           },
           "zerolinecolor": "white",
           "zerolinewidth": 2
          }
         }
        },
        "title": {
         "text": "Terrorist Attacks by Country"
        }
       }
      }
     },
     "metadata": {},
     "output_type": "display_data"
    }
   ],
   "source": [
    "import plotly.express as px\n",
    "\n",
    "# Group the data by country and count the number of attacks\n",
    "country_counts = data2['Country'].value_counts().reset_index()\n",
    "country_counts.columns = ['Country', 'Attack Count']\n",
    "\n",
    "# Create the choropleth map\n",
    "fig = px.choropleth(country_counts, \n",
    "                    locations='Country',\n",
    "                    locationmode='country names',\n",
    "                    color='Attack Count',\n",
    "                    title='Terrorist Attacks by Country',\n",
    "                    labels={'Attack Count': 'Number of Attacks'},\n",
    "                    hover_name='Country',\n",
    "                    color_continuous_scale='Reds')\n",
    "\n",
    "fig.show()\n"
   ]
  },
  {
   "cell_type": "markdown",
   "metadata": {},
   "source": [
    "The choropleth map provides a visual representation of the distribution of terrorist attacks across different countries or regions. Each country or region is color-coded based on the number of attacks, allowing you to quickly identify high-risk areas. The interactive nature of the plot enables you to hover over specific locations to see detailed information about the number of attacks."
   ]
  },
  {
   "cell_type": "markdown",
   "metadata": {},
   "source": [
    "# Time Series Plot:\n",
    "- An interactive time series plot to show the number of attacks over the years. Use Plotly's interactive features to zoom in on specific time periods."
   ]
  },
  {
   "cell_type": "code",
   "execution_count": 35,
   "metadata": {},
   "outputs": [
    {
     "data": {
      "application/vnd.plotly.v1+json": {
       "config": {
        "plotlyServerURL": "https://plot.ly"
       },
       "data": [
        {
         "mode": "lines",
         "name": "Number of Attacks",
         "type": "scatter",
         "x": [
          1970,
          1971,
          1972,
          1973,
          1974,
          1975,
          1976,
          1977,
          1978,
          1979,
          1980,
          1981,
          1982,
          1983,
          1984,
          1985,
          1986,
          1987,
          1988,
          1989,
          1990,
          1991,
          1992,
          1994,
          1995,
          1996,
          1997,
          1998,
          1999,
          2000,
          2001,
          2002,
          2003,
          2004,
          2005,
          2006,
          2007,
          2008,
          2009,
          2010,
          2011,
          2012,
          2013,
          2014,
          2015,
          2016,
          2017
         ],
         "y": [
          222,
          111,
          40,
          25,
          40,
          26,
          30,
          18,
          41,
          13,
          23,
          22,
          27,
          20,
          46,
          26,
          37,
          27,
          28,
          29,
          27,
          28,
          28,
          34,
          25,
          13,
          20,
          759,
          1231,
          1597,
          1771,
          1223,
          1139,
          1012,
          1781,
          2424,
          2881,
          4341,
          4447,
          4722,
          4876,
          1890,
          2387,
          1898,
          1788,
          1693,
          1670
         ]
        }
       ],
       "layout": {
        "hovermode": "x unified",
        "template": {
         "data": {
          "bar": [
           {
            "error_x": {
             "color": "#2a3f5f"
            },
            "error_y": {
             "color": "#2a3f5f"
            },
            "marker": {
             "line": {
              "color": "#E5ECF6",
              "width": 0.5
             },
             "pattern": {
              "fillmode": "overlay",
              "size": 10,
              "solidity": 0.2
             }
            },
            "type": "bar"
           }
          ],
          "barpolar": [
           {
            "marker": {
             "line": {
              "color": "#E5ECF6",
              "width": 0.5
             },
             "pattern": {
              "fillmode": "overlay",
              "size": 10,
              "solidity": 0.2
             }
            },
            "type": "barpolar"
           }
          ],
          "carpet": [
           {
            "aaxis": {
             "endlinecolor": "#2a3f5f",
             "gridcolor": "white",
             "linecolor": "white",
             "minorgridcolor": "white",
             "startlinecolor": "#2a3f5f"
            },
            "baxis": {
             "endlinecolor": "#2a3f5f",
             "gridcolor": "white",
             "linecolor": "white",
             "minorgridcolor": "white",
             "startlinecolor": "#2a3f5f"
            },
            "type": "carpet"
           }
          ],
          "choropleth": [
           {
            "colorbar": {
             "outlinewidth": 0,
             "ticks": ""
            },
            "type": "choropleth"
           }
          ],
          "contour": [
           {
            "colorbar": {
             "outlinewidth": 0,
             "ticks": ""
            },
            "colorscale": [
             [
              0,
              "#0d0887"
             ],
             [
              0.1111111111111111,
              "#46039f"
             ],
             [
              0.2222222222222222,
              "#7201a8"
             ],
             [
              0.3333333333333333,
              "#9c179e"
             ],
             [
              0.4444444444444444,
              "#bd3786"
             ],
             [
              0.5555555555555556,
              "#d8576b"
             ],
             [
              0.6666666666666666,
              "#ed7953"
             ],
             [
              0.7777777777777778,
              "#fb9f3a"
             ],
             [
              0.8888888888888888,
              "#fdca26"
             ],
             [
              1,
              "#f0f921"
             ]
            ],
            "type": "contour"
           }
          ],
          "contourcarpet": [
           {
            "colorbar": {
             "outlinewidth": 0,
             "ticks": ""
            },
            "type": "contourcarpet"
           }
          ],
          "heatmap": [
           {
            "colorbar": {
             "outlinewidth": 0,
             "ticks": ""
            },
            "colorscale": [
             [
              0,
              "#0d0887"
             ],
             [
              0.1111111111111111,
              "#46039f"
             ],
             [
              0.2222222222222222,
              "#7201a8"
             ],
             [
              0.3333333333333333,
              "#9c179e"
             ],
             [
              0.4444444444444444,
              "#bd3786"
             ],
             [
              0.5555555555555556,
              "#d8576b"
             ],
             [
              0.6666666666666666,
              "#ed7953"
             ],
             [
              0.7777777777777778,
              "#fb9f3a"
             ],
             [
              0.8888888888888888,
              "#fdca26"
             ],
             [
              1,
              "#f0f921"
             ]
            ],
            "type": "heatmap"
           }
          ],
          "heatmapgl": [
           {
            "colorbar": {
             "outlinewidth": 0,
             "ticks": ""
            },
            "colorscale": [
             [
              0,
              "#0d0887"
             ],
             [
              0.1111111111111111,
              "#46039f"
             ],
             [
              0.2222222222222222,
              "#7201a8"
             ],
             [
              0.3333333333333333,
              "#9c179e"
             ],
             [
              0.4444444444444444,
              "#bd3786"
             ],
             [
              0.5555555555555556,
              "#d8576b"
             ],
             [
              0.6666666666666666,
              "#ed7953"
             ],
             [
              0.7777777777777778,
              "#fb9f3a"
             ],
             [
              0.8888888888888888,
              "#fdca26"
             ],
             [
              1,
              "#f0f921"
             ]
            ],
            "type": "heatmapgl"
           }
          ],
          "histogram": [
           {
            "marker": {
             "pattern": {
              "fillmode": "overlay",
              "size": 10,
              "solidity": 0.2
             }
            },
            "type": "histogram"
           }
          ],
          "histogram2d": [
           {
            "colorbar": {
             "outlinewidth": 0,
             "ticks": ""
            },
            "colorscale": [
             [
              0,
              "#0d0887"
             ],
             [
              0.1111111111111111,
              "#46039f"
             ],
             [
              0.2222222222222222,
              "#7201a8"
             ],
             [
              0.3333333333333333,
              "#9c179e"
             ],
             [
              0.4444444444444444,
              "#bd3786"
             ],
             [
              0.5555555555555556,
              "#d8576b"
             ],
             [
              0.6666666666666666,
              "#ed7953"
             ],
             [
              0.7777777777777778,
              "#fb9f3a"
             ],
             [
              0.8888888888888888,
              "#fdca26"
             ],
             [
              1,
              "#f0f921"
             ]
            ],
            "type": "histogram2d"
           }
          ],
          "histogram2dcontour": [
           {
            "colorbar": {
             "outlinewidth": 0,
             "ticks": ""
            },
            "colorscale": [
             [
              0,
              "#0d0887"
             ],
             [
              0.1111111111111111,
              "#46039f"
             ],
             [
              0.2222222222222222,
              "#7201a8"
             ],
             [
              0.3333333333333333,
              "#9c179e"
             ],
             [
              0.4444444444444444,
              "#bd3786"
             ],
             [
              0.5555555555555556,
              "#d8576b"
             ],
             [
              0.6666666666666666,
              "#ed7953"
             ],
             [
              0.7777777777777778,
              "#fb9f3a"
             ],
             [
              0.8888888888888888,
              "#fdca26"
             ],
             [
              1,
              "#f0f921"
             ]
            ],
            "type": "histogram2dcontour"
           }
          ],
          "mesh3d": [
           {
            "colorbar": {
             "outlinewidth": 0,
             "ticks": ""
            },
            "type": "mesh3d"
           }
          ],
          "parcoords": [
           {
            "line": {
             "colorbar": {
              "outlinewidth": 0,
              "ticks": ""
             }
            },
            "type": "parcoords"
           }
          ],
          "pie": [
           {
            "automargin": true,
            "type": "pie"
           }
          ],
          "scatter": [
           {
            "fillpattern": {
             "fillmode": "overlay",
             "size": 10,
             "solidity": 0.2
            },
            "type": "scatter"
           }
          ],
          "scatter3d": [
           {
            "line": {
             "colorbar": {
              "outlinewidth": 0,
              "ticks": ""
             }
            },
            "marker": {
             "colorbar": {
              "outlinewidth": 0,
              "ticks": ""
             }
            },
            "type": "scatter3d"
           }
          ],
          "scattercarpet": [
           {
            "marker": {
             "colorbar": {
              "outlinewidth": 0,
              "ticks": ""
             }
            },
            "type": "scattercarpet"
           }
          ],
          "scattergeo": [
           {
            "marker": {
             "colorbar": {
              "outlinewidth": 0,
              "ticks": ""
             }
            },
            "type": "scattergeo"
           }
          ],
          "scattergl": [
           {
            "marker": {
             "colorbar": {
              "outlinewidth": 0,
              "ticks": ""
             }
            },
            "type": "scattergl"
           }
          ],
          "scattermapbox": [
           {
            "marker": {
             "colorbar": {
              "outlinewidth": 0,
              "ticks": ""
             }
            },
            "type": "scattermapbox"
           }
          ],
          "scatterpolar": [
           {
            "marker": {
             "colorbar": {
              "outlinewidth": 0,
              "ticks": ""
             }
            },
            "type": "scatterpolar"
           }
          ],
          "scatterpolargl": [
           {
            "marker": {
             "colorbar": {
              "outlinewidth": 0,
              "ticks": ""
             }
            },
            "type": "scatterpolargl"
           }
          ],
          "scatterternary": [
           {
            "marker": {
             "colorbar": {
              "outlinewidth": 0,
              "ticks": ""
             }
            },
            "type": "scatterternary"
           }
          ],
          "surface": [
           {
            "colorbar": {
             "outlinewidth": 0,
             "ticks": ""
            },
            "colorscale": [
             [
              0,
              "#0d0887"
             ],
             [
              0.1111111111111111,
              "#46039f"
             ],
             [
              0.2222222222222222,
              "#7201a8"
             ],
             [
              0.3333333333333333,
              "#9c179e"
             ],
             [
              0.4444444444444444,
              "#bd3786"
             ],
             [
              0.5555555555555556,
              "#d8576b"
             ],
             [
              0.6666666666666666,
              "#ed7953"
             ],
             [
              0.7777777777777778,
              "#fb9f3a"
             ],
             [
              0.8888888888888888,
              "#fdca26"
             ],
             [
              1,
              "#f0f921"
             ]
            ],
            "type": "surface"
           }
          ],
          "table": [
           {
            "cells": {
             "fill": {
              "color": "#EBF0F8"
             },
             "line": {
              "color": "white"
             }
            },
            "header": {
             "fill": {
              "color": "#C8D4E3"
             },
             "line": {
              "color": "white"
             }
            },
            "type": "table"
           }
          ]
         },
         "layout": {
          "annotationdefaults": {
           "arrowcolor": "#2a3f5f",
           "arrowhead": 0,
           "arrowwidth": 1
          },
          "autotypenumbers": "strict",
          "coloraxis": {
           "colorbar": {
            "outlinewidth": 0,
            "ticks": ""
           }
          },
          "colorscale": {
           "diverging": [
            [
             0,
             "#8e0152"
            ],
            [
             0.1,
             "#c51b7d"
            ],
            [
             0.2,
             "#de77ae"
            ],
            [
             0.3,
             "#f1b6da"
            ],
            [
             0.4,
             "#fde0ef"
            ],
            [
             0.5,
             "#f7f7f7"
            ],
            [
             0.6,
             "#e6f5d0"
            ],
            [
             0.7,
             "#b8e186"
            ],
            [
             0.8,
             "#7fbc41"
            ],
            [
             0.9,
             "#4d9221"
            ],
            [
             1,
             "#276419"
            ]
           ],
           "sequential": [
            [
             0,
             "#0d0887"
            ],
            [
             0.1111111111111111,
             "#46039f"
            ],
            [
             0.2222222222222222,
             "#7201a8"
            ],
            [
             0.3333333333333333,
             "#9c179e"
            ],
            [
             0.4444444444444444,
             "#bd3786"
            ],
            [
             0.5555555555555556,
             "#d8576b"
            ],
            [
             0.6666666666666666,
             "#ed7953"
            ],
            [
             0.7777777777777778,
             "#fb9f3a"
            ],
            [
             0.8888888888888888,
             "#fdca26"
            ],
            [
             1,
             "#f0f921"
            ]
           ],
           "sequentialminus": [
            [
             0,
             "#0d0887"
            ],
            [
             0.1111111111111111,
             "#46039f"
            ],
            [
             0.2222222222222222,
             "#7201a8"
            ],
            [
             0.3333333333333333,
             "#9c179e"
            ],
            [
             0.4444444444444444,
             "#bd3786"
            ],
            [
             0.5555555555555556,
             "#d8576b"
            ],
            [
             0.6666666666666666,
             "#ed7953"
            ],
            [
             0.7777777777777778,
             "#fb9f3a"
            ],
            [
             0.8888888888888888,
             "#fdca26"
            ],
            [
             1,
             "#f0f921"
            ]
           ]
          },
          "colorway": [
           "#636efa",
           "#EF553B",
           "#00cc96",
           "#ab63fa",
           "#FFA15A",
           "#19d3f3",
           "#FF6692",
           "#B6E880",
           "#FF97FF",
           "#FECB52"
          ],
          "font": {
           "color": "#2a3f5f"
          },
          "geo": {
           "bgcolor": "white",
           "lakecolor": "white",
           "landcolor": "#E5ECF6",
           "showlakes": true,
           "showland": true,
           "subunitcolor": "white"
          },
          "hoverlabel": {
           "align": "left"
          },
          "hovermode": "closest",
          "mapbox": {
           "style": "light"
          },
          "paper_bgcolor": "white",
          "plot_bgcolor": "#E5ECF6",
          "polar": {
           "angularaxis": {
            "gridcolor": "white",
            "linecolor": "white",
            "ticks": ""
           },
           "bgcolor": "#E5ECF6",
           "radialaxis": {
            "gridcolor": "white",
            "linecolor": "white",
            "ticks": ""
           }
          },
          "scene": {
           "xaxis": {
            "backgroundcolor": "#E5ECF6",
            "gridcolor": "white",
            "gridwidth": 2,
            "linecolor": "white",
            "showbackground": true,
            "ticks": "",
            "zerolinecolor": "white"
           },
           "yaxis": {
            "backgroundcolor": "#E5ECF6",
            "gridcolor": "white",
            "gridwidth": 2,
            "linecolor": "white",
            "showbackground": true,
            "ticks": "",
            "zerolinecolor": "white"
           },
           "zaxis": {
            "backgroundcolor": "#E5ECF6",
            "gridcolor": "white",
            "gridwidth": 2,
            "linecolor": "white",
            "showbackground": true,
            "ticks": "",
            "zerolinecolor": "white"
           }
          },
          "shapedefaults": {
           "line": {
            "color": "#2a3f5f"
           }
          },
          "ternary": {
           "aaxis": {
            "gridcolor": "white",
            "linecolor": "white",
            "ticks": ""
           },
           "baxis": {
            "gridcolor": "white",
            "linecolor": "white",
            "ticks": ""
           },
           "bgcolor": "#E5ECF6",
           "caxis": {
            "gridcolor": "white",
            "linecolor": "white",
            "ticks": ""
           }
          },
          "title": {
           "x": 0.05
          },
          "xaxis": {
           "automargin": true,
           "gridcolor": "white",
           "linecolor": "white",
           "ticks": "",
           "title": {
            "standoff": 15
           },
           "zerolinecolor": "white",
           "zerolinewidth": 2
          },
          "yaxis": {
           "automargin": true,
           "gridcolor": "white",
           "linecolor": "white",
           "ticks": "",
           "title": {
            "standoff": 15
           },
           "zerolinecolor": "white",
           "zerolinewidth": 2
          }
         }
        },
        "title": {
         "text": "Terrorist Attacks Over Time"
        },
        "xaxis": {
         "title": {
          "text": "Year"
         }
        },
        "yaxis": {
         "title": {
          "text": "Number of Attacks"
         }
        }
       }
      }
     },
     "metadata": {},
     "output_type": "display_data"
    }
   ],
   "source": [
    "import plotly.graph_objects as go\n",
    "\n",
    "# Group the data by year and count the number of attacks\n",
    "yearly_counts = data2['Year'].value_counts().sort_index()\n",
    "\n",
    "# Create the time series plot\n",
    "fig = go.Figure(data=go.Scatter(x=yearly_counts.index,\n",
    "                               y=yearly_counts.values,\n",
    "                               mode='lines',\n",
    "                               name='Number of Attacks'))\n",
    "\n",
    "fig.update_layout(title='Terrorist Attacks Over Time',\n",
    "                  xaxis_title='Year',\n",
    "                  yaxis_title='Number of Attacks',\n",
    "                  hovermode='x unified')\n",
    "\n",
    "fig.show()\n"
   ]
  },
  {
   "cell_type": "markdown",
   "metadata": {},
   "source": [
    "The time series plot displays the number of terrorist attacks over time, typically organized by years. It helps to identify trends, patterns, and changes in the frequency of attacks. The interactive features allow you to zoom in on specific time periods, enabling a closer examination of significant events or shifts in attack patterns."
   ]
  },
  {
   "cell_type": "markdown",
   "metadata": {},
   "source": [
    "# Stacked Bar Chart:\n",
    "- An interactive stacked bar chart to visualize the distribution of attack types across different regions or countries. Use Plotly to create the interactive chart."
   ]
  },
  {
   "cell_type": "code",
   "execution_count": 36,
   "metadata": {},
   "outputs": [
    {
     "data": {
      "application/vnd.plotly.v1+json": {
       "config": {
        "plotlyServerURL": "https://plot.ly"
       },
       "data": [
        {
         "alignmentgroup": "True",
         "hovertemplate": "<b>%{hovertext}</b><br><br>AttackType=Armed Assault<br>Region=%{x}<br>Number of Attacks=%{y}<extra></extra>",
         "hovertext": [
          "Armed Assault",
          "Armed Assault",
          "Armed Assault",
          "Armed Assault",
          "Armed Assault",
          "Armed Assault",
          "Armed Assault",
          "Armed Assault",
          "Armed Assault",
          "Armed Assault",
          "Armed Assault",
          "Armed Assault"
         ],
         "legendgroup": "Armed Assault",
         "marker": {
          "color": "#636efa",
          "pattern": {
           "shape": ""
          }
         },
         "name": "Armed Assault",
         "offsetgroup": "Armed Assault",
         "orientation": "v",
         "showlegend": true,
         "textposition": "auto",
         "type": "bar",
         "x": [
          "Australasia & Oceania",
          "Central America & Caribbean",
          "Central Asia",
          "East Asia",
          "Eastern Europe",
          "Middle East & North Africa",
          "North America",
          "South America",
          "South Asia",
          "Southeast Asia",
          "Sub-Saharan Africa",
          "Western Europe"
         ],
         "xaxis": "x",
         "y": [
          8,
          21,
          36,
          27,
          540,
          2874,
          207,
          245,
          4004,
          1554,
          1245,
          276
         ],
         "yaxis": "y"
        },
        {
         "alignmentgroup": "True",
         "hovertemplate": "<b>%{hovertext}</b><br><br>AttackType=Assassination<br>Region=%{x}<br>Number of Attacks=%{y}<extra></extra>",
         "hovertext": [
          "Assassination",
          "Assassination",
          "Assassination",
          "Assassination",
          "Assassination",
          "Assassination",
          "Assassination",
          "Assassination",
          "Assassination",
          "Assassination",
          "Assassination",
          "Assassination"
         ],
         "legendgroup": "Assassination",
         "marker": {
          "color": "#EF553B",
          "pattern": {
           "shape": ""
          }
         },
         "name": "Assassination",
         "offsetgroup": "Assassination",
         "orientation": "v",
         "showlegend": true,
         "textposition": "auto",
         "type": "bar",
         "x": [
          "Australasia & Oceania",
          "Central America & Caribbean",
          "Central Asia",
          "East Asia",
          "Eastern Europe",
          "Middle East & North Africa",
          "North America",
          "South America",
          "South Asia",
          "Southeast Asia",
          "Sub-Saharan Africa",
          "Western Europe"
         ],
         "xaxis": "x",
         "y": [
          2,
          20,
          25,
          4,
          193,
          946,
          51,
          121,
          1028,
          292,
          283,
          65
         ],
         "yaxis": "y"
        },
        {
         "alignmentgroup": "True",
         "hovertemplate": "<b>%{hovertext}</b><br><br>AttackType=Bombing/Explosion<br>Region=%{x}<br>Number of Attacks=%{y}<extra></extra>",
         "hovertext": [
          "Bombing/Explosion",
          "Bombing/Explosion",
          "Bombing/Explosion",
          "Bombing/Explosion",
          "Bombing/Explosion",
          "Bombing/Explosion",
          "Bombing/Explosion",
          "Bombing/Explosion",
          "Bombing/Explosion",
          "Bombing/Explosion",
          "Bombing/Explosion",
          "Bombing/Explosion"
         ],
         "legendgroup": "Bombing/Explosion",
         "marker": {
          "color": "#00cc96",
          "pattern": {
           "shape": ""
          }
         },
         "name": "Bombing/Explosion",
         "offsetgroup": "Bombing/Explosion",
         "orientation": "v",
         "showlegend": true,
         "textposition": "auto",
         "type": "bar",
         "x": [
          "Australasia & Oceania",
          "Central America & Caribbean",
          "Central Asia",
          "East Asia",
          "Eastern Europe",
          "Middle East & North Africa",
          "North America",
          "South America",
          "South Asia",
          "Southeast Asia",
          "Sub-Saharan Africa",
          "Western Europe"
         ],
         "xaxis": "x",
         "y": [
          12,
          22,
          122,
          85,
          1105,
          8898,
          532,
          840,
          7668,
          1928,
          990,
          1364
         ],
         "yaxis": "y"
        },
        {
         "alignmentgroup": "True",
         "hovertemplate": "<b>%{hovertext}</b><br><br>AttackType=Facility/Infrastructure Attack<br>Region=%{x}<br>Number of Attacks=%{y}<extra></extra>",
         "hovertext": [
          "Facility/Infrastructure Attack",
          "Facility/Infrastructure Attack",
          "Facility/Infrastructure Attack",
          "Facility/Infrastructure Attack",
          "Facility/Infrastructure Attack",
          "Facility/Infrastructure Attack",
          "Facility/Infrastructure Attack",
          "Facility/Infrastructure Attack",
          "Facility/Infrastructure Attack",
          "Facility/Infrastructure Attack",
          "Facility/Infrastructure Attack",
          "Facility/Infrastructure Attack"
         ],
         "legendgroup": "Facility/Infrastructure Attack",
         "marker": {
          "color": "#ab63fa",
          "pattern": {
           "shape": ""
          }
         },
         "name": "Facility/Infrastructure Attack",
         "offsetgroup": "Facility/Infrastructure Attack",
         "orientation": "v",
         "showlegend": true,
         "textposition": "auto",
         "type": "bar",
         "x": [
          "Australasia & Oceania",
          "Central America & Caribbean",
          "Central Asia",
          "East Asia",
          "Eastern Europe",
          "Middle East & North Africa",
          "North America",
          "South America",
          "South Asia",
          "Southeast Asia",
          "Sub-Saharan Africa",
          "Western Europe"
         ],
         "xaxis": "x",
         "y": [
          14,
          6,
          11,
          15,
          110,
          325,
          631,
          127,
          1100,
          524,
          219,
          638
         ],
         "yaxis": "y"
        },
        {
         "alignmentgroup": "True",
         "hovertemplate": "<b>%{hovertext}</b><br><br>AttackType=Hijacking<br>Region=%{x}<br>Number of Attacks=%{y}<extra></extra>",
         "hovertext": [
          "Hijacking",
          "Hijacking",
          "Hijacking",
          "Hijacking",
          "Hijacking",
          "Hijacking",
          "Hijacking",
          "Hijacking",
          "Hijacking",
          "Hijacking",
          "Hijacking",
          "Hijacking"
         ],
         "legendgroup": "Hijacking",
         "marker": {
          "color": "#FFA15A",
          "pattern": {
           "shape": ""
          }
         },
         "name": "Hijacking",
         "offsetgroup": "Hijacking",
         "orientation": "v",
         "showlegend": true,
         "textposition": "auto",
         "type": "bar",
         "x": [
          "Australasia & Oceania",
          "Central America & Caribbean",
          "Central Asia",
          "East Asia",
          "Eastern Europe",
          "Middle East & North Africa",
          "North America",
          "South America",
          "South Asia",
          "Southeast Asia",
          "Sub-Saharan Africa",
          "Western Europe"
         ],
         "xaxis": "x",
         "y": [
          1,
          1,
          2,
          4,
          4,
          22,
          9,
          12,
          34,
          14,
          22,
          15
         ],
         "yaxis": "y"
        },
        {
         "alignmentgroup": "True",
         "hovertemplate": "<b>%{hovertext}</b><br><br>AttackType=Hostage Taking (Barricade Incident)<br>Region=%{x}<br>Number of Attacks=%{y}<extra></extra>",
         "hovertext": [
          "Hostage Taking (Barricade Incident)",
          "Hostage Taking (Barricade Incident)",
          "Hostage Taking (Barricade Incident)",
          "Hostage Taking (Barricade Incident)",
          "Hostage Taking (Barricade Incident)",
          "Hostage Taking (Barricade Incident)",
          "Hostage Taking (Barricade Incident)",
          "Hostage Taking (Barricade Incident)",
          "Hostage Taking (Barricade Incident)",
          "Hostage Taking (Barricade Incident)",
          "Hostage Taking (Barricade Incident)"
         ],
         "legendgroup": "Hostage Taking (Barricade Incident)",
         "marker": {
          "color": "#19d3f3",
          "pattern": {
           "shape": ""
          }
         },
         "name": "Hostage Taking (Barricade Incident)",
         "offsetgroup": "Hostage Taking (Barricade Incident)",
         "orientation": "v",
         "showlegend": true,
         "textposition": "auto",
         "type": "bar",
         "x": [
          "Australasia & Oceania",
          "Central Asia",
          "East Asia",
          "Eastern Europe",
          "Middle East & North Africa",
          "North America",
          "South America",
          "South Asia",
          "Southeast Asia",
          "Sub-Saharan Africa",
          "Western Europe"
         ],
         "xaxis": "x",
         "y": [
          1,
          1,
          1,
          6,
          27,
          42,
          8,
          53,
          27,
          20,
          13
         ],
         "yaxis": "y"
        },
        {
         "alignmentgroup": "True",
         "hovertemplate": "<b>%{hovertext}</b><br><br>AttackType=Hostage Taking (Kidnapping)<br>Region=%{x}<br>Number of Attacks=%{y}<extra></extra>",
         "hovertext": [
          "Hostage Taking (Kidnapping)",
          "Hostage Taking (Kidnapping)",
          "Hostage Taking (Kidnapping)",
          "Hostage Taking (Kidnapping)",
          "Hostage Taking (Kidnapping)",
          "Hostage Taking (Kidnapping)",
          "Hostage Taking (Kidnapping)",
          "Hostage Taking (Kidnapping)",
          "Hostage Taking (Kidnapping)",
          "Hostage Taking (Kidnapping)",
          "Hostage Taking (Kidnapping)"
         ],
         "legendgroup": "Hostage Taking (Kidnapping)",
         "marker": {
          "color": "#FF6692",
          "pattern": {
           "shape": ""
          }
         },
         "name": "Hostage Taking (Kidnapping)",
         "offsetgroup": "Hostage Taking (Kidnapping)",
         "orientation": "v",
         "showlegend": true,
         "textposition": "auto",
         "type": "bar",
         "x": [
          "Australasia & Oceania",
          "Central America & Caribbean",
          "Central Asia",
          "Eastern Europe",
          "Middle East & North Africa",
          "North America",
          "South America",
          "South Asia",
          "Southeast Asia",
          "Sub-Saharan Africa",
          "Western Europe"
         ],
         "xaxis": "x",
         "y": [
          4,
          2,
          21,
          74,
          764,
          19,
          246,
          1521,
          257,
          560,
          11
         ],
         "yaxis": "y"
        },
        {
         "alignmentgroup": "True",
         "hovertemplate": "<b>%{hovertext}</b><br><br>AttackType=Unarmed Assault<br>Region=%{x}<br>Number of Attacks=%{y}<extra></extra>",
         "hovertext": [
          "Unarmed Assault",
          "Unarmed Assault",
          "Unarmed Assault",
          "Unarmed Assault",
          "Unarmed Assault",
          "Unarmed Assault",
          "Unarmed Assault",
          "Unarmed Assault",
          "Unarmed Assault",
          "Unarmed Assault",
          "Unarmed Assault"
         ],
         "legendgroup": "Unarmed Assault",
         "marker": {
          "color": "#B6E880",
          "pattern": {
           "shape": ""
          }
         },
         "name": "Unarmed Assault",
         "offsetgroup": "Unarmed Assault",
         "orientation": "v",
         "showlegend": true,
         "textposition": "auto",
         "type": "bar",
         "x": [
          "Australasia & Oceania",
          "Central Asia",
          "East Asia",
          "Eastern Europe",
          "Middle East & North Africa",
          "North America",
          "South America",
          "South Asia",
          "Southeast Asia",
          "Sub-Saharan Africa",
          "Western Europe"
         ],
         "xaxis": "x",
         "y": [
          8,
          4,
          15,
          41,
          31,
          51,
          11,
          102,
          15,
          26,
          55
         ],
         "yaxis": "y"
        },
        {
         "alignmentgroup": "True",
         "hovertemplate": "<b>%{hovertext}</b><br><br>AttackType=Unknown<br>Region=%{x}<br>Number of Attacks=%{y}<extra></extra>",
         "hovertext": [
          "Unknown",
          "Unknown",
          "Unknown",
          "Unknown",
          "Unknown",
          "Unknown",
          "Unknown",
          "Unknown",
          "Unknown",
          "Unknown"
         ],
         "legendgroup": "Unknown",
         "marker": {
          "color": "#FF97FF",
          "pattern": {
           "shape": ""
          }
         },
         "name": "Unknown",
         "offsetgroup": "Unknown",
         "orientation": "v",
         "showlegend": true,
         "textposition": "auto",
         "type": "bar",
         "x": [
          "Central Asia",
          "East Asia",
          "Eastern Europe",
          "Middle East & North Africa",
          "North America",
          "South America",
          "South Asia",
          "Southeast Asia",
          "Sub-Saharan Africa",
          "Western Europe"
         ],
         "xaxis": "x",
         "y": [
          2,
          1,
          22,
          299,
          1,
          40,
          375,
          92,
          189,
          5
         ],
         "yaxis": "y"
        }
       ],
       "layout": {
        "barmode": "stack",
        "legend": {
         "title": {
          "text": "AttackType"
         },
         "tracegroupgap": 0
        },
        "template": {
         "data": {
          "bar": [
           {
            "error_x": {
             "color": "#2a3f5f"
            },
            "error_y": {
             "color": "#2a3f5f"
            },
            "marker": {
             "line": {
              "color": "#E5ECF6",
              "width": 0.5
             },
             "pattern": {
              "fillmode": "overlay",
              "size": 10,
              "solidity": 0.2
             }
            },
            "type": "bar"
           }
          ],
          "barpolar": [
           {
            "marker": {
             "line": {
              "color": "#E5ECF6",
              "width": 0.5
             },
             "pattern": {
              "fillmode": "overlay",
              "size": 10,
              "solidity": 0.2
             }
            },
            "type": "barpolar"
           }
          ],
          "carpet": [
           {
            "aaxis": {
             "endlinecolor": "#2a3f5f",
             "gridcolor": "white",
             "linecolor": "white",
             "minorgridcolor": "white",
             "startlinecolor": "#2a3f5f"
            },
            "baxis": {
             "endlinecolor": "#2a3f5f",
             "gridcolor": "white",
             "linecolor": "white",
             "minorgridcolor": "white",
             "startlinecolor": "#2a3f5f"
            },
            "type": "carpet"
           }
          ],
          "choropleth": [
           {
            "colorbar": {
             "outlinewidth": 0,
             "ticks": ""
            },
            "type": "choropleth"
           }
          ],
          "contour": [
           {
            "colorbar": {
             "outlinewidth": 0,
             "ticks": ""
            },
            "colorscale": [
             [
              0,
              "#0d0887"
             ],
             [
              0.1111111111111111,
              "#46039f"
             ],
             [
              0.2222222222222222,
              "#7201a8"
             ],
             [
              0.3333333333333333,
              "#9c179e"
             ],
             [
              0.4444444444444444,
              "#bd3786"
             ],
             [
              0.5555555555555556,
              "#d8576b"
             ],
             [
              0.6666666666666666,
              "#ed7953"
             ],
             [
              0.7777777777777778,
              "#fb9f3a"
             ],
             [
              0.8888888888888888,
              "#fdca26"
             ],
             [
              1,
              "#f0f921"
             ]
            ],
            "type": "contour"
           }
          ],
          "contourcarpet": [
           {
            "colorbar": {
             "outlinewidth": 0,
             "ticks": ""
            },
            "type": "contourcarpet"
           }
          ],
          "heatmap": [
           {
            "colorbar": {
             "outlinewidth": 0,
             "ticks": ""
            },
            "colorscale": [
             [
              0,
              "#0d0887"
             ],
             [
              0.1111111111111111,
              "#46039f"
             ],
             [
              0.2222222222222222,
              "#7201a8"
             ],
             [
              0.3333333333333333,
              "#9c179e"
             ],
             [
              0.4444444444444444,
              "#bd3786"
             ],
             [
              0.5555555555555556,
              "#d8576b"
             ],
             [
              0.6666666666666666,
              "#ed7953"
             ],
             [
              0.7777777777777778,
              "#fb9f3a"
             ],
             [
              0.8888888888888888,
              "#fdca26"
             ],
             [
              1,
              "#f0f921"
             ]
            ],
            "type": "heatmap"
           }
          ],
          "heatmapgl": [
           {
            "colorbar": {
             "outlinewidth": 0,
             "ticks": ""
            },
            "colorscale": [
             [
              0,
              "#0d0887"
             ],
             [
              0.1111111111111111,
              "#46039f"
             ],
             [
              0.2222222222222222,
              "#7201a8"
             ],
             [
              0.3333333333333333,
              "#9c179e"
             ],
             [
              0.4444444444444444,
              "#bd3786"
             ],
             [
              0.5555555555555556,
              "#d8576b"
             ],
             [
              0.6666666666666666,
              "#ed7953"
             ],
             [
              0.7777777777777778,
              "#fb9f3a"
             ],
             [
              0.8888888888888888,
              "#fdca26"
             ],
             [
              1,
              "#f0f921"
             ]
            ],
            "type": "heatmapgl"
           }
          ],
          "histogram": [
           {
            "marker": {
             "pattern": {
              "fillmode": "overlay",
              "size": 10,
              "solidity": 0.2
             }
            },
            "type": "histogram"
           }
          ],
          "histogram2d": [
           {
            "colorbar": {
             "outlinewidth": 0,
             "ticks": ""
            },
            "colorscale": [
             [
              0,
              "#0d0887"
             ],
             [
              0.1111111111111111,
              "#46039f"
             ],
             [
              0.2222222222222222,
              "#7201a8"
             ],
             [
              0.3333333333333333,
              "#9c179e"
             ],
             [
              0.4444444444444444,
              "#bd3786"
             ],
             [
              0.5555555555555556,
              "#d8576b"
             ],
             [
              0.6666666666666666,
              "#ed7953"
             ],
             [
              0.7777777777777778,
              "#fb9f3a"
             ],
             [
              0.8888888888888888,
              "#fdca26"
             ],
             [
              1,
              "#f0f921"
             ]
            ],
            "type": "histogram2d"
           }
          ],
          "histogram2dcontour": [
           {
            "colorbar": {
             "outlinewidth": 0,
             "ticks": ""
            },
            "colorscale": [
             [
              0,
              "#0d0887"
             ],
             [
              0.1111111111111111,
              "#46039f"
             ],
             [
              0.2222222222222222,
              "#7201a8"
             ],
             [
              0.3333333333333333,
              "#9c179e"
             ],
             [
              0.4444444444444444,
              "#bd3786"
             ],
             [
              0.5555555555555556,
              "#d8576b"
             ],
             [
              0.6666666666666666,
              "#ed7953"
             ],
             [
              0.7777777777777778,
              "#fb9f3a"
             ],
             [
              0.8888888888888888,
              "#fdca26"
             ],
             [
              1,
              "#f0f921"
             ]
            ],
            "type": "histogram2dcontour"
           }
          ],
          "mesh3d": [
           {
            "colorbar": {
             "outlinewidth": 0,
             "ticks": ""
            },
            "type": "mesh3d"
           }
          ],
          "parcoords": [
           {
            "line": {
             "colorbar": {
              "outlinewidth": 0,
              "ticks": ""
             }
            },
            "type": "parcoords"
           }
          ],
          "pie": [
           {
            "automargin": true,
            "type": "pie"
           }
          ],
          "scatter": [
           {
            "fillpattern": {
             "fillmode": "overlay",
             "size": 10,
             "solidity": 0.2
            },
            "type": "scatter"
           }
          ],
          "scatter3d": [
           {
            "line": {
             "colorbar": {
              "outlinewidth": 0,
              "ticks": ""
             }
            },
            "marker": {
             "colorbar": {
              "outlinewidth": 0,
              "ticks": ""
             }
            },
            "type": "scatter3d"
           }
          ],
          "scattercarpet": [
           {
            "marker": {
             "colorbar": {
              "outlinewidth": 0,
              "ticks": ""
             }
            },
            "type": "scattercarpet"
           }
          ],
          "scattergeo": [
           {
            "marker": {
             "colorbar": {
              "outlinewidth": 0,
              "ticks": ""
             }
            },
            "type": "scattergeo"
           }
          ],
          "scattergl": [
           {
            "marker": {
             "colorbar": {
              "outlinewidth": 0,
              "ticks": ""
             }
            },
            "type": "scattergl"
           }
          ],
          "scattermapbox": [
           {
            "marker": {
             "colorbar": {
              "outlinewidth": 0,
              "ticks": ""
             }
            },
            "type": "scattermapbox"
           }
          ],
          "scatterpolar": [
           {
            "marker": {
             "colorbar": {
              "outlinewidth": 0,
              "ticks": ""
             }
            },
            "type": "scatterpolar"
           }
          ],
          "scatterpolargl": [
           {
            "marker": {
             "colorbar": {
              "outlinewidth": 0,
              "ticks": ""
             }
            },
            "type": "scatterpolargl"
           }
          ],
          "scatterternary": [
           {
            "marker": {
             "colorbar": {
              "outlinewidth": 0,
              "ticks": ""
             }
            },
            "type": "scatterternary"
           }
          ],
          "surface": [
           {
            "colorbar": {
             "outlinewidth": 0,
             "ticks": ""
            },
            "colorscale": [
             [
              0,
              "#0d0887"
             ],
             [
              0.1111111111111111,
              "#46039f"
             ],
             [
              0.2222222222222222,
              "#7201a8"
             ],
             [
              0.3333333333333333,
              "#9c179e"
             ],
             [
              0.4444444444444444,
              "#bd3786"
             ],
             [
              0.5555555555555556,
              "#d8576b"
             ],
             [
              0.6666666666666666,
              "#ed7953"
             ],
             [
              0.7777777777777778,
              "#fb9f3a"
             ],
             [
              0.8888888888888888,
              "#fdca26"
             ],
             [
              1,
              "#f0f921"
             ]
            ],
            "type": "surface"
           }
          ],
          "table": [
           {
            "cells": {
             "fill": {
              "color": "#EBF0F8"
             },
             "line": {
              "color": "white"
             }
            },
            "header": {
             "fill": {
              "color": "#C8D4E3"
             },
             "line": {
              "color": "white"
             }
            },
            "type": "table"
           }
          ]
         },
         "layout": {
          "annotationdefaults": {
           "arrowcolor": "#2a3f5f",
           "arrowhead": 0,
           "arrowwidth": 1
          },
          "autotypenumbers": "strict",
          "coloraxis": {
           "colorbar": {
            "outlinewidth": 0,
            "ticks": ""
           }
          },
          "colorscale": {
           "diverging": [
            [
             0,
             "#8e0152"
            ],
            [
             0.1,
             "#c51b7d"
            ],
            [
             0.2,
             "#de77ae"
            ],
            [
             0.3,
             "#f1b6da"
            ],
            [
             0.4,
             "#fde0ef"
            ],
            [
             0.5,
             "#f7f7f7"
            ],
            [
             0.6,
             "#e6f5d0"
            ],
            [
             0.7,
             "#b8e186"
            ],
            [
             0.8,
             "#7fbc41"
            ],
            [
             0.9,
             "#4d9221"
            ],
            [
             1,
             "#276419"
            ]
           ],
           "sequential": [
            [
             0,
             "#0d0887"
            ],
            [
             0.1111111111111111,
             "#46039f"
            ],
            [
             0.2222222222222222,
             "#7201a8"
            ],
            [
             0.3333333333333333,
             "#9c179e"
            ],
            [
             0.4444444444444444,
             "#bd3786"
            ],
            [
             0.5555555555555556,
             "#d8576b"
            ],
            [
             0.6666666666666666,
             "#ed7953"
            ],
            [
             0.7777777777777778,
             "#fb9f3a"
            ],
            [
             0.8888888888888888,
             "#fdca26"
            ],
            [
             1,
             "#f0f921"
            ]
           ],
           "sequentialminus": [
            [
             0,
             "#0d0887"
            ],
            [
             0.1111111111111111,
             "#46039f"
            ],
            [
             0.2222222222222222,
             "#7201a8"
            ],
            [
             0.3333333333333333,
             "#9c179e"
            ],
            [
             0.4444444444444444,
             "#bd3786"
            ],
            [
             0.5555555555555556,
             "#d8576b"
            ],
            [
             0.6666666666666666,
             "#ed7953"
            ],
            [
             0.7777777777777778,
             "#fb9f3a"
            ],
            [
             0.8888888888888888,
             "#fdca26"
            ],
            [
             1,
             "#f0f921"
            ]
           ]
          },
          "colorway": [
           "#636efa",
           "#EF553B",
           "#00cc96",
           "#ab63fa",
           "#FFA15A",
           "#19d3f3",
           "#FF6692",
           "#B6E880",
           "#FF97FF",
           "#FECB52"
          ],
          "font": {
           "color": "#2a3f5f"
          },
          "geo": {
           "bgcolor": "white",
           "lakecolor": "white",
           "landcolor": "#E5ECF6",
           "showlakes": true,
           "showland": true,
           "subunitcolor": "white"
          },
          "hoverlabel": {
           "align": "left"
          },
          "hovermode": "closest",
          "mapbox": {
           "style": "light"
          },
          "paper_bgcolor": "white",
          "plot_bgcolor": "#E5ECF6",
          "polar": {
           "angularaxis": {
            "gridcolor": "white",
            "linecolor": "white",
            "ticks": ""
           },
           "bgcolor": "#E5ECF6",
           "radialaxis": {
            "gridcolor": "white",
            "linecolor": "white",
            "ticks": ""
           }
          },
          "scene": {
           "xaxis": {
            "backgroundcolor": "#E5ECF6",
            "gridcolor": "white",
            "gridwidth": 2,
            "linecolor": "white",
            "showbackground": true,
            "ticks": "",
            "zerolinecolor": "white"
           },
           "yaxis": {
            "backgroundcolor": "#E5ECF6",
            "gridcolor": "white",
            "gridwidth": 2,
            "linecolor": "white",
            "showbackground": true,
            "ticks": "",
            "zerolinecolor": "white"
           },
           "zaxis": {
            "backgroundcolor": "#E5ECF6",
            "gridcolor": "white",
            "gridwidth": 2,
            "linecolor": "white",
            "showbackground": true,
            "ticks": "",
            "zerolinecolor": "white"
           }
          },
          "shapedefaults": {
           "line": {
            "color": "#2a3f5f"
           }
          },
          "ternary": {
           "aaxis": {
            "gridcolor": "white",
            "linecolor": "white",
            "ticks": ""
           },
           "baxis": {
            "gridcolor": "white",
            "linecolor": "white",
            "ticks": ""
           },
           "bgcolor": "#E5ECF6",
           "caxis": {
            "gridcolor": "white",
            "linecolor": "white",
            "ticks": ""
           }
          },
          "title": {
           "x": 0.05
          },
          "xaxis": {
           "automargin": true,
           "gridcolor": "white",
           "linecolor": "white",
           "ticks": "",
           "title": {
            "standoff": 15
           },
           "zerolinecolor": "white",
           "zerolinewidth": 2
          },
          "yaxis": {
           "automargin": true,
           "gridcolor": "white",
           "linecolor": "white",
           "ticks": "",
           "title": {
            "standoff": 15
           },
           "zerolinecolor": "white",
           "zerolinewidth": 2
          }
         }
        },
        "title": {
         "text": "Terrorist Attacks by Region and Type"
        },
        "xaxis": {
         "anchor": "y",
         "domain": [
          0,
          1
         ],
         "title": {
          "text": "Region"
         }
        },
        "yaxis": {
         "anchor": "x",
         "domain": [
          0,
          1
         ],
         "title": {
          "text": "Number of Attacks"
         }
        }
       }
      }
     },
     "metadata": {},
     "output_type": "display_data"
    }
   ],
   "source": [
    "# Group the data by region and attack type and count the number of attacks\n",
    "region_attack_counts = data2.groupby(['Region', 'AttackType']).size().reset_index()\n",
    "region_attack_counts.columns = ['Region', 'AttackType', 'Attack Count']\n",
    "\n",
    "# Create the stacked bar chart\n",
    "fig = px.bar(region_attack_counts, \n",
    "             x='Region',\n",
    "             y='Attack Count',\n",
    "             color='AttackType',\n",
    "             title='Terrorist Attacks by Region and Type',\n",
    "             labels={'Attack Count': 'Number of Attacks'},\n",
    "             hover_name='AttackType',\n",
    "             barmode='stack')\n",
    "\n",
    "fig.show()"
   ]
  },
  {
   "cell_type": "markdown",
   "metadata": {},
   "source": [
    "The stacked bar chart visualizes the distribution of different attack types across regions or countries. Each bar represents a specific region or country, and the stacked segments within the bar represent the various attack types. This plot provides a comparative view of attack types in different regions, helping to identify trends and patterns."
   ]
  },
  {
   "cell_type": "markdown",
   "metadata": {},
   "source": [
    "# Sunburst Chart:\n",
    "- An interactive sunburst chart to explore the hierarchy and distribution of terrorist groups. Use Plotly's Sunburst feature to create the interactive chart."
   ]
  },
  {
   "cell_type": "code",
   "execution_count": 37,
   "metadata": {},
   "outputs": [
    {
     "data": {
      "application/vnd.plotly.v1+json": {
       "config": {
        "plotlyServerURL": "https://plot.ly"
       },
       "data": [
        {
         "labels": [
          "Unknown",
          "Taliban",
          "Communist Party of India - Maoist (CPI-Maoist)",
          "Revolutionary Armed Forces of Colombia (FARC)",
          "New People's Army (NPA)",
          "Tehrik-i-Taliban Pakistan (TTP)",
          "Islamic State of Iraq and the Levant (ISIL)",
          "Maoists",
          "Al-Shabaab",
          "Liberation Tigers of Tamil Eelam (LTTE)",
          "Al-Qaida in Iraq",
          "Boko Haram",
          "Algerian Islamic Extremists",
          "Chechen Rebels",
          "Kurdistan Workers' Party (PKK)",
          "Moro Islamic Liberation Front (MILF)",
          "Al-Qaida in the Arabian Peninsula (AQAP)",
          "Abu Sayyaf Group (ASG)",
          "United Liberation Front of Assam (ULFA)",
          "Muslim extremists",
          "Basque Fatherland and Freedom (ETA)",
          "Gunmen",
          "Hamas (Islamic Resistance Movement)",
          "National Liberation Army of Colombia (ELN)",
          "Salafist Group for Preaching and Fighting (GSPC)",
          "Al-Qaida in the Islamic Maghreb (AQIM)",
          "Anti-Abortion extremists",
          "Lord's Resistance Army (LRA)",
          "Al-Aqsa Martyrs Brigade",
          "Palestinian Islamic Jihad (PIJ)",
          "Islamic State of Iraq (ISI)",
          "Left-Wing Militants",
          "Corsican National Liberation Front (FLNC)",
          "Bangsamoro Islamic Freedom Movement (BIFM)",
          "Separatists",
          "Free Aceh Movement (GAM)",
          "National Union for the Total Independence of Angola (UNITA)",
          "Lashkar-e-Taiba (LeT)",
          "Hizbul Mujahideen (HM)",
          "National Democratic Front of Bodoland (NDFB)",
          "Lashkar-e-Jhangvi",
          "Armed Islamic Group (GIA)",
          "Tripoli Province of the Islamic State",
          "Baloch Liberation Army (BLA)",
          "Animal Liberation Front (ALF)",
          "Jihadi-inspired extremists",
          "Pro Hartal Activists",
          "Garo National Liberation Army",
          "Hezbollah",
          "Houthi extremists (Ansar Allah)",
          "White extremists",
          "Jemaah Islamiya (JI)",
          "Baloch Republican Army (BRA)",
          "Sinai Province of the Islamic State",
          "Earth Liberation Front (ELF)",
          "Khorasan Chapter of the Islamic State",
          "Al-Qaida",
          "Militants",
          "Janatantrik Terai Mukti Morcha- Jwala Singh (JTMM-J)",
          "National Socialist Council of Nagaland-Isak-Muivah (NSCN-IM)",
          "Movement for the Emancipation of the Niger Delta (MEND)",
          "Asa'ib Ahl al-Haqq",
          "Runda Kumpulan Kecil (RKK)",
          "Gorkha Janmukti Morcha (GJM)",
          "People's War Group (PWG)",
          "Haqqani Network",
          "Thai Islamic Militants",
          "United Self Defense Units of Colombia (AUC)",
          "Palestinian Extremists",
          "Baloch Liberation Front (BLF)",
          "Black Nationalists",
          "Barisan Revolusi Nasional (BRN)",
          "Indian Mujahideen",
          "Lashkar-e-Islam (Pakistan)",
          "National Liberation Front of Tripura (NLFT)",
          "Anarchists",
          "Islamist extremists",
          "Allied Democratic Forces (ADF)",
          "Albanian extremists",
          "Popular Front for the Liberation of Palestine (PFLP)",
          "Real Irish Republican Army (RIRA)",
          "Caucasus Emirate",
          "Anti-Government extremists",
          "Conspiracy of Cells of Fire",
          "Democratic Front for the Liberation of Rwanda (FDLR)",
          "Al-Nusrah Front",
          "Kosovo Liberation Army (KLA)",
          "Jamaat-E-Islami (Bangladesh)",
          "Tawhid and Jihad",
          "Communist Party of Nepal - Maoist (CPN-Maoist-Chand)",
          "Hutu extremists",
          "Student Radicals",
          "Fuerzas Armadas de Liberacion Nacional (FALN)",
          "People's Liberation Army (India)",
          "People's Liberation Front of India",
          "Popular Resistance Committees",
          "Irish Republican Army (IRA)",
          "Bangladesh Nationalist Party (BNP)",
          "Informal Anarchist Federation",
          "Tribesmen",
          "Fulani extremists",
          "National Liberation Army (NLA) (Macedonia)",
          "Kangleipak Communist Party (KCP)",
          "Donetsk People's Republic",
          "Party for the Liberation of the Hutu People (PALIPEHUTU)",
          "Karen National Union",
          "Anti-Muslim extremists",
          "Taliban (Pakistan)",
          "Southern Mobility Movement (Yemen)",
          "Muslim Separatists",
          "Al-Fatah",
          "Naxalites",
          "Janatantrik Terai Mukti Morcha- Goit (JTMM-G)",
          "Mayi Mayi",
          "Sudan People's Liberation Movement - North",
          "Ansar Bayt al-Maqdis (Ansar Jerusalem)",
          "Janatantrik Terai Mukti Morcha (JTMM)",
          "National Liberation Front (FNL) (Burundi)",
          "Shining Path (SL)",
          "Jaish-e-Mohammad (JeM)",
          "Jama'atul Mujahideen Bangladesh (JMB)",
          "Neo-Nazi extremists",
          "Communist Party of Nepal-Maoist (Baidya)",
          "Red Hand Defenders (RHD)",
          "Continuity Irish Republican Army (CIRA)",
          "Palestinians",
          "Sindhu Desh Liberation Army (SDLA)",
          "Pattani United Liberation Organization (PULO)",
          "Paraguayan People's Army (EPP)",
          "Maoist Communist Center (MCC)",
          "Revolutionary Struggle",
          "National Socialist Council of Nagaland-Khaplang (NSCN-K)",
          "Mozambique National Resistance Movement (MNR)",
          "Anti-Balaka Militia",
          "Dima Halao Daoga (DHD)",
          "United Front for Democracy Against Dictatorship",
          "People's Committee against Police Atrocities (PCPA)",
          "Ansar al-Islam",
          "Sunni Muslim extremists",
          "Hizb-I-Islami",
          "Dissident Republicans",
          "Oglaigh na hEireann",
          "Israeli extremists",
          "Movement of Democratic Forces of Casamance",
          "Macheteros",
          "Revolutionary United Front (RUF)",
          "Zebra killers",
          "Communist Party of Nepal- Maoist (CPN-M)",
          "Sudan People's Liberation Army (SPLA)",
          "Rebels",
          "Chicano Liberation Front",
          "Cuban Exiles",
          "Ku Klux Klan",
          "Devrimici Halk Kurtulus Cephesi (DHKP/C)",
          "Kurdistan Freedom Hawks (TAK)",
          "Jewish Defense League (JDL)",
          "People's Revolutionary Party of Kangleipak (PREPAK)",
          "Anti-Semitic extremists",
          "United Baloch Army (UBA)",
          "Mujahideen Youth Movement (MYM)",
          "Muslim Militants",
          "Barqa Province of the Islamic State",
          "Jaish-e-Islam",
          "Army of God",
          "Puerto Rican Nationalists",
          "Uighur Separatists",
          "Irish Republican Extremists",
          "Mujahedin-e Khalq (MEK)",
          "Hizbul al Islam (Somalia)",
          "Niger Delta Avengers (NDA)",
          "Young Communist League",
          "Peace at Home Council",
          "First of October Antifascist Resistance Group (GRAPO)",
          "Democratic Front for the Liberation of Palestine (DFLP)",
          "Right-wing extremists",
          "Free Papua Movement (OPM-Organisasi Papua Merdeka)",
          "Purbo Banglar Communist Party",
          "Abdullah Azzam Brigades",
          "Mahdi Army",
          "Jundallah (Pakistan)",
          "United National Liberation Front (UNLF)",
          "Mujahideen Ansar",
          "Aryan Republican Army",
          "Loyalist Volunteer Forces (LVF)",
          "Ajnad Misr",
          "Harkatul Jihad-e-Islami",
          "Karbi Longri North Cachar Liberation Front (KLNLF)",
          "Muslim Brotherhood",
          "Moro National Liberation Front (MNLF)",
          "Ansar al-Dine (Mali)",
          "Loyalists",
          "Animal Rights extremists",
          "Protestant extremists",
          "Ulster Freedom Fighters (UFF)",
          "Awami League",
          "The Justice Department",
          "November 17 Revolutionary Organization (N17RO)",
          "Maute Group",
          "Al-Mansoorian",
          "Islamic Front (Syria)",
          "Rohingya extremists",
          "Left-wing extremists",
          "Black Panthers",
          "Great Eastern Islamic Raiders Front (IBDA-C)",
          "Tritiya Prastuti Committee (TPC)",
          "National Council for Defense of Democracy (NCDD)",
          "Movement for Oneness and Jihad in West Africa (MUJAO)",
          "Janjaweed",
          "Free Syrian Army",
          "Popular Liberation Army (EPL)",
          "Janatantrik Terai Mukti Morcha- Rajan Mukti (JTMM-R)",
          "Coordination Committee (CORCOM)",
          "Ansar al-Sunna",
          "Balochistan Liberation United Front (BLUF)",
          "Students Islamic Movement of India (SIMI)",
          "May 19 Communist Order",
          "Al-Ummah",
          "Ranbir Sena",
          "Muslim Rebels",
          "Sanaa Province of the Islamic State",
          "Orange Volunteers (OV)",
          "Black Widows",
          "Murle Tribe",
          "Jundallah (Iran)",
          "Strikers",
          "Kachin Independence Army (KIA)",
          "Anti-Police extremists",
          "Terai Army",
          "Israeli settlers",
          "Karbi People's Liberation Tigers (KPLT)",
          "Jamaat-ul-Ahrar",
          "Shutdown G20: Take Hamburg offline!",
          "Iraqi extremists",
          "Revolutionary Nuclei",
          "Islamic State in Bangladesh",
          "Armed Forces of the Chechen Republic of Ichkeria",
          "Right-Wing Paramilitaries",
          "Al-Qaida in Yemen",
          "Haftar Militia",
          "Armed Revolutionary Independence Movement (MIRA)",
          "Pagan Sect of the Mountain",
          "Samyukta Jatiya Mukti Morcha (SJMM)",
          "Youths",
          "Kanglei Yawol Kanna Lup (KYKL)",
          "The New Irish Republican Army",
          "Riyadus-Salikhin Reconnaissance and Sabotage Battalion of Chechen Martyrs",
          "Jewish Extremists",
          "Movement of Niger People for Justice (MNJ)",
          "Akhil Terai Mukti Morcha (ATMM)",
          "Al-Khobar",
          "Hay'at Tahrir al-Sham",
          "Militia Members",
          "People Against Gangsterism and Drugs (PAGAD)",
          "Gorkha Liberation Army (GLA)",
          "Baloch Nationalists",
          "Mapuche activists",
          "Colonel Karuna Faction",
          "South Ossetian Separatists",
          "Ulster Volunteer Force (UVF)",
          "Zeliangrong United Front",
          "Islamic Courts Union (ICU)",
          "Azawad National Liberation Movement (MNLA)",
          "Chicano Radicals",
          "Hasam Movement",
          "Coalition to Save the Preserves (CSP)",
          "The Order (Silent Brotherhood)",
          "Jamiat ul-Mujahedin (JuM)",
          "Buddhist Monks",
          "Athens and Thessaloniki Arsonist Nuclei",
          "Communist Party of Nepal (People's War Group)",
          "Armata di Liberazione Naziunale (ALN)",
          "Insurgents",
          "Communist Party of India- Marxist-Leninist",
          "Black Liberation Army",
          "Popular Resistance Movement (Egypt)",
          "Kurdistan Free Life Party",
          "Basque extremists",
          "Armed Commandos of Liberation",
          "Deccan Mujahideen",
          "Muttahida Qami Movement (MQM)",
          "Bodo Liberation Tigers (BLT)",
          "Liwa Ahrar al-Sunna",
          "Ansarullah Bangla Team",
          "All Tripura Tiger Force (ATTF)",
          "United People's Democratic Solidarity (UPDS)",
          "Anti-Immigrant extremists",
          "Tuareg extremists",
          "Sudan Liberation Movement",
          "Ansar al-Sharia Operations Room (Syria)",
          "Organization of Volunteers for the Puerto Rican Revolution",
          "Al-Qaida in the Indian Subcontinent",
          "Muslims",
          "Sipah-e-Sahaba/Pakistan (SSP)",
          "Militant Minority (Greece)",
          "Anti-Nuclear extremists",
          "Jaish al-Adl",
          "Khasi Students Union",
          "Black Star",
          "Bedouin tribesmen",
          "Pedro Albizu Campos Revolutionary Forces",
          "Ansar al-Sharia (Libya)",
          "Anti-Government Guerrillas",
          "Democratic Front of the Central African People (FDPC)",
          "Justice and Equality Movement (JEM)",
          "Madhesi Mukti Tigers (MMT)",
          "Zimbabwe African Nationalist Union (ZANU)",
          "Turkish Communist Party/Marxist (TKP-ML)",
          "People's Revolutionary Army (ERP)",
          "Communists",
          "Jharkhand Liberation Tigers (JLT)",
          "Weichan Auka Mapu",
          "Anti-Government Group",
          "Vishwa Hindu Parishad (VHP)",
          "People's United Liberation Front (PULF)",
          "Up the IRS, Inc",
          "Islamic State in Egypt",
          "All Nepal National Free Student Union-Revolutionary",
          "Turkestan Islamic Party",
          "Jund al-Sham for Tawhid and Jihad",
          "Revolutionary Punishment Movement",
          "World Church of the Creator",
          "Oromo Liberation Front",
          "Jamaat Nusrat al-Islam wal Muslimin (JNIM)",
          "The Joint Revolutionary Council",
          "Janatantrik Terai Madhesh Mukti Morcha (JTMMM)",
          "Ijaw extremists",
          "Illuminating Paths of Solidarity",
          "American Indian Movement",
          "Anti-White extremists",
          "Achik Songna An'pachakgipa Kotok (ASAK)",
          "Kuki National Front (KNF)",
          "Islamic Army in Iraq (al-Jaish al-Islami fi al-Iraq)",
          "Jamaah Ansharut Tauhid (JAT)",
          "Mujahidin Indonesia Timur (MIT)",
          "Paramilitaries",
          "Irish National Liberation Army (INLA)",
          "George Jackson Brigade",
          "Mujahedeen Shura Council",
          "Comite d'Action Viticole",
          "Baloch Liberation Tigers (BLT)",
          "Puerto Rican Revolutionary Movement",
          "Hekla Reception Committee-Initiative for More Social Eruptions",
          "Salafia Jihadia",
          "Africa Marine Commando",
          "Evan Mecham Eco-Terrorist International Conspiracy (EMETIC)",
          "Islamic Movement of Uzbekistan (IMU)",
          "Niger Delta Greenland Justice Mandate (NDGJM)",
          "People's Democratic Party (PDP)",
          "Albanian National Army (ANA)",
          "Popular Front for Justice in the Congo",
          "Tanzim",
          "Samyukta Janatantrik Terai Mukti Morcha (SJTMM)",
          "United Freedom Front (UFF)",
          "Jamaat-al-Fuqra",
          "Kamtapur Liberation Organization (KLO)",
          "Kirat Janabadi Workers Party",
          "Mungiki Sect",
          "Madhesh Rastra Janatantrik Revolutionary (RJR) - Nepal",
          "Cambodian Freedom Fighters (CFF)",
          "Opposition Group",
          "Al-Qaida in Saudi Arabia",
          "Ta'ang National Liberation Army (TNLA)",
          "Conscientious Arsonists (CA)",
          "Ogaden National Liberation Front (ONLF)",
          "Anti-State Justice",
          "Luhansk People's Republic",
          "Sudan People's Liberation Movement in Opposition (SPLM-IO)",
          "Shia Muslim extremists",
          "Front for the Liberation of the Enclave of Cabinda (FLEC)",
          "Jund al-Khilafah (Tunisia)",
          "Weather Underground, Weathermen",
          "Base Movement",
          "Breton Liberation Front (FLB)",
          "Achik National Volunteer Council-B (ANVC-B)",
          "Grey Wolves",
          "Ansar al-Sharia (Tunisia)",
          "Lashkar-e-Islam (India)",
          "Pro-Government extremists",
          "Revolutionary Perspective",
          "Jaish al-Fatah (Syria)",
          "Dagestani Shari'ah Jamaat",
          "Red Brigades Fighting Communist Party (BR-PCC)",
          "September 11",
          "Organization for Revolutionary Self Defense",
          "Black Muslims",
          "Extremists",
          "NVF",
          "Omega-7",
          "Zero Tolerance",
          "The Northern Alliance (or United Islamic Front for Salvation of Afghanistan - UIFSA)",
          "Tupamaro Revolutionary Movement",
          "Arauco Malleco Coordinating Group (CAM) - Chile",
          "United Kuki Liberation Front (UKLF) - India",
          "Anti-United States extremists",
          "Ninjas",
          "Forces for the Defense of Democracy (FDD)",
          "Manipur Naga People's Army (MNPA)",
          "All Burma Students' Democratic Front (ABSDF)",
          "Mahaz Fedai Tahrik Islami Afghanistan",
          "Sympathizers of Al-Qaida Organization",
          "Hynniewtrep National Liberation Council (HNLC)",
          "Coalition for Unity and Democracy (CUD)",
          "Kuki Liberation Army (KLA)",
          "Tehrik al-Mojahedin",
          "Eastern Turkistan Islamic Movement (ETIM)",
          "Corsican National Liberation Front- Historic Channel",
          "Al-Shuda Brigade",
          "Popular Revolutionary Army (Mexico)",
          "Jamaat-E-Islami (India/Pakistan)",
          "Resistenza Corsa",
          "CCCCC",
          "Independent Armed Revolutionary Commandos (CRIA)",
          "14 K Triad",
          "Mahan Madhesh Janakantri Party (MMJP)- Nepal",
          "Wild Individualities",
          "Al-Arifeen",
          "People's Revolutionary Militias (MRP)",
          "Cannibal Army",
          "Revolutionary Commandos of the People (CRP)",
          "Revolutionary Action of Liberation",
          "Adan-Abyan Province of the Islamic State",
          "National Congress for the Defense of the People (CNDP)",
          "Mujahideen Islam Pattani",
          "National Liberation Force of Bengalis (Bangali Janamukti Bahini)",
          "Al-Madina",
          "Islambouli Brigades of al-Qaida",
          "Christian extremists",
          "Nyatura Militia",
          "Mujahedeen Shura Council in the Environs of Jerusalem",
          "Communist Party of India- Marxist",
          "New World Liberation Front (NWLF)",
          "Hill Tiger Force (HTF)",
          "Al-Mua'qi'oon Biddam Brigade (Those who Sign with Blood)",
          "Turkish Hezbollah",
          "Ansaru (Jama'atu Ansarul Muslimina Fi Biladis Sudan)",
          "Takfir wal-Hijra (Excommunication and Exodus)",
          "Covenant, Sword and the Arm of the Lord (CSA)",
          "Al-Shabaab al-Mu'minin",
          "Sabaot Land Defense Force (SLDF)",
          "Hindu extremists",
          "Gbagbo Loyalists",
          "Sindhudesh Revolutionary Army (SRA)",
          "Adivasi National Liberation Army (ANLA)",
          "Afar Revolutionary Democratic Unity Front",
          "The Extraditables",
          "Democratic Karen Buddhist Army (DKBA)",
          "Sudan Liberation Army-Minni Minawi (SLA-MM)",
          "Sheikh Omar Hadid Brigade",
          "Kazakhstan Liberation Army",
          "Front for the National Liberation of Puerto Rico",
          "Shura Council of Mujahideen in Derna",
          "Raia Mutomboki Militia",
          "Beja Congress",
          "Otpor",
          "People's Revolutionary Party of Kangleipak-Progressive (PREPAK-P)",
          "Patriotic Ginbot 7 Movement for Unity and Democracy (PGMUD)",
          "Latin America Anti-Communist Army (LAACA)",
          "23 May Democratic Alliance (Algeria)",
          "Alex Boncayao Brigade (ABB)",
          "Ansar al-Islam (Burkina Faso)",
          "Overall Deniers of Joining the Existing",
          "Mapuche Ancestral Resistance (RAM)",
          "Individuals Tending Toward Savagery",
          "Shuar extremists",
          "Islamic Front",
          "Sect of Revolutionaries (Greece)",
          "Movement for Democratic Change (MDC)",
          "Iparretarrak (IK)",
          "Patriotic Europeans against the Islamization of the West (PEGIDA)",
          "Halqa-e-Mehsud",
          "Revolutionary Cells Network (SRN)",
          "Fuerzas Armadas Revolucionarias del Pueblo (FARP)",
          "South Moluccans",
          "Jadid Al-Qaida Bangladesh (JAQB)",
          "Popular Front for the Liberation of Palestine, Gen Cmd (PFLP-GC)",
          "Sovereign Citizen",
          "Arsonists for Social Cohesion",
          "Revolutionary Armed Forces of Colombia (FARC) dissidents",
          "National Front Against Tigers (NFAT)",
          "Armata Corsa",
          "Brigades of Imprisoned Sheikh Omar Abdel-Rahman",
          "Ansar al-Sharia (Pakistan)",
          "Save Kashmir Movement",
          "Hutus Former Soldiers",
          "Somali Islamic Front",
          "Skinheads",
          "Karbi National Volunteers (KNV)",
          "Saraya Waad Allah",
          "Global Intifada",
          "Popular Will (Greece)",
          "Ahrar Al-Jalil (Free People of the Galilee)",
          "Earth First!",
          "Hijaz Province of the Islamic State",
          "Miscreants",
          "313 Brigade (Syria)",
          "Colombian Patriotic Resistance",
          "Revolutionary Liberation Action (Epanastatiki Apelevtherotiki Drasi) - Greece",
          "Ambazonia Defense Forces (ADF)",
          "Al-Umar Mujahideen",
          "Al-Ashtar Brigades",
          "Merille Militia",
          "United Democratic Madhesi Front (UDMF)",
          "Rashtriya Swayamsevak Sangh",
          "Amr Bil Maroof Wa Nahi Anil Munkir",
          "Group of Popular Fighters",
          "Rubicon (Rouvikonas)",
          "Proletariat Self-defense Groups",
          "Liberians United for Reconciliation and Democracy (LURD)",
          "Qaddafi loyalists",
          "Suqour al-Ahvaz",
          "Mariano Moreno National Liberation Commando",
          "Khalistan Liberation Force",
          "Mukhtar Army",
          "Madhesi People's Rights Forum (MPRF)",
          "Okba Ibn Nafaa Brigade",
          "Real Ulster Freedom Fighters (UFF) - Northern Ireland",
          "Union of Forces for Democracy and Development (UFDD)",
          "Muslim Fundamentalists",
          "United Democratic Liberation Army (UDLA)",
          "Islamic Jihad Group (IJG)",
          "Kuki National Army (KNA)",
          "Niger Delta Liberation Force (NDLF)-Nigeria",
          "Patriotic Resistance Front in Ituri (FRPI)",
          "Vietnamese Organization to Exterminate Communists and Restore the Nation",
          "Supreme Council for Islamic Revolution in Iraq (SCIRI)",
          "Adivasi People's Army (APA)",
          "Anti-Gun Control extremists",
          "Attack Teams for the Dissolution of the Nation (Greece)",
          "Abida Tribe",
          "Niger Delta People's Volunteer Force (NDPVF)",
          "Karamojong Warriors",
          "Combat 18",
          "Kuki Revolutionary Army (KRA)",
          "Popular Mobilization Forces (Iraq)",
          "Nepal Defense Army",
          "Bodu Bala Sena",
          "Movement for the Actualization of the Sovereign State of Biafra (MASSOB)",
          "Environmentalists",
          "United People's Democratic Front (UPDF) - Bangladesh",
          "Incel extremists",
          "Abbala extremists",
          "Jewish Armed Resistance",
          "Ansar al-Sunna (Mozambique)",
          "New Year's Gang",
          "Aceh Singkil Islamic Care Youth Students Association (PPI)",
          "Ansar Al Sunnah (Palestine)",
          "Neo-Fascists",
          "Al-Ittihaad al-Islami (AIAI)",
          "Lashkar-e-Balochistan",
          "Anti-State Action",
          "Pro-Russia Militia",
          "Shan State Army - South (SSA-S)",
          "Babbar Khalsa International (BKI)",
          "Salafi Abu-Bakr al-Siddiq Army",
          "Janatantrik Terai Mukti Morcha- Prithvi Singh (JTMM-P)",
          "United Front for Democratic Change (FUC)",
          "Fatah al-Islam",
          "Movement for the Restoration of the Independence of Southern Cameroons",
          "Armed Revolutionary Action (ENEDRA)",
          "People's Tamil Organization",
          "Mai Mai Yakutumba Militia",
          "Ahneish Militia",
          "The United Revolutionary Front of Bhutan",
          "Al-Qaida Kurdish Battalions (AQKB)",
          "Tehrik-e-Nafaz-e-Shariat-e-Mohammadi (TNSM)",
          "Solidarity with imprisoned members of Action Directe (AD)",
          "Karbi Longri National Liberation Front (KLNLF)",
          "Kata'ib al-Khoul",
          "Najd Province of the Islamic State",
          "People's Protection Units (YPG)",
          "Telangana Separatists",
          "Al-Furqan Brigades",
          "Islamic Unification Movement",
          "United Achik Liberation Army (UALA)",
          "Maoist Communist Party of Manipur",
          "Union of Patriots for the Defense of Innocents (UPDI)",
          "February 14th Movement",
          "Hassan Mabkhut Group",
          "National Democratic Front-Bicol (NDF-Bicol)",
          "Terai Communist Party",
          "Yarmouk Martyrs Brigade",
          "Mombasa Republican Council (MRC)",
          "Mateo Morral Insurrectionist Commandos",
          "Supporters of Laurent Nkunda",
          "Punjabi Taliban",
          "M23",
          "David Yau Yau Militia",
          "Jharkhand Prastuti Committee (JPC)",
          "Pro-LGBT Rights extremists",
          "Partido Marxista-Leninista ng Pilipinas (PMLP)",
          "Kani Brigade",
          "Ingush Rebels",
          "Bru National Liberation Front (BNLF)",
          "Resistencia Galega",
          "Libya Revolutionaries Operations Room (LROR)",
          "National Socialist Council of Nagaland-Khole-Kitovi (NSCN-KK)",
          "Supporters of Abd Rabbuh Mansur Hadi",
          "Urhobo Gbagbako",
          "Hindu Illaignar Sena",
          "A'chik Matgrik Elite Force (AMEF)",
          "Seleka",
          "Arab Movement of Azawad (MAA)",
          "Ukrainian nationalists",
          "Islamic Youth Shura Council",
          "Baloch Young Tigers (BYT)",
          "Jaysh al-Islam (Syria)",
          "Democratic Youth Federation of India (DYFI)",
          "Tanzeem al-Islami al-Furqan",
          "Biafra Zionist Movement (BZM)",
          "The Association for Islamic Mobilisation and Propagation (UAMSHO)",
          "Baloch Waja Liberation Army (BWLA)",
          "United Tribal Liberation Army (UTLA)",
          "Baba Ladla Gang",
          "Achik National Liberation Army (ANLA)",
          "Kuki Tribal Militants",
          "Ramiro Ledesma Social Centre",
          "Islami Jamiat-e-Talaba (IJT)",
          "Shiv Sena",
          "Imam Shamil Battalion",
          "Shabelle Valley militia",
          "Revolution's Brigade",
          "Islamic Jihad Union (Uzbekistan)",
          "Tehrik-e-Galba Islam",
          "Basque Separatists",
          "Tharuhat Joint Struggle Committee (TJSC)",
          "Supreme Command for Jihad and Liberation",
          "Ansar Wa Mohajir (Pakistan)",
          "Anti-LGBT extremists",
          "Jamaah Ansharut Daulah",
          "Kata'ib Hezbollah",
          "Iraq's Jihadist Leagues",
          "Umbane People's Liberation Army (Swaziland)",
          "Fire and Flame for the Police (FFdP)",
          "National Alliance (Chad)",
          "Tamil Makkal Viduthalai Pulikal (TMVP)",
          "Gangs of Conscience",
          "Farmer's Movement of the Philippines (KMP)",
          "Conqueror Army",
          "Jharkhand Janmukti Parishad (JJP)",
          "Terai Cobra",
          "Anti-Democratic Struggle",
          "Gono Bahini (GB)",
          "Mai Mai Mazembe Militia",
          "Al-Yakin Mujahidin",
          "Southern Front",
          "Islamic Movement of Kashmir",
          "Soldiers of the Caliphate",
          "Khorasan jihadi group",
          "National Front for the Revolution in Burundi (FRONABU-Tabara)",
          "Naga National Council (NNC)",
          "South Sudan Liberation Army (SSLA)",
          "Ahfad al-Sahaba-Aknaf Bayt al-Maqdis",
          "Khumbuwan Mukti Morcha",
          "Tawhid and Jihad (Palestine)",
          "Friends of Freedom",
          "Revolutionary Cells (Argentina)",
          "Tehrik-e-Tuhafaz (Pakistan)",
          "Dynamic Youth Forum",
          "Southern Yemen Separatists",
          "Ansarul Islam (Pakistan)",
          "Rugovasit Group",
          "Shield of Islam Brigade",
          "United Liberation Front of Barak Valley (ULFBV) - India",
          "Freedom Eagles of Africa",
          "Islamic Party (Somalia)",
          "Al-Qaida Network for Southwestern Khulna Division",
          "Egyptian Tawhid and Jihad",
          "Mutahida Majlis-e-Amal",
          "Death Squad",
          "Maccabee Squad and the Shield of David",
          "Islamic Defenders' Front (FPI)",
          "Revolutionary Cells-Animal Liberation Brigade",
          "Kashmiri extremists",
          "Farm Animal Revenge Militia (FARM)",
          "Anti-Imperialist Territorial Nuclei (NTA)",
          "Adan Abyan Islamic Army (AAIA)",
          "Pro-Indonesia extremists",
          "Palestinian Hezbollah",
          "Phineas Priesthood",
          "Al-Haramayn Brigades",
          "Armed Revolutionary Left (IRA)",
          "Avengers of the Infants",
          "Aryan Nation",
          "Harakat ul-Mujahidin (HuM)",
          "Rebel Military Unit",
          "Jaish al-Ta'ifa al-Mansura",
          "Turkish radicals",
          "United Bengali Liberation Front (UBLF)",
          "Andres Castro United Front",
          "Scottish National Liberation Army",
          "Mujahedeen Corps in Iraq",
          "Umar al-Mukhtar Martyr Forces",
          "Algerian Moslem Fundamentalists",
          "Armenian Secret Army for the Liberation of Armenia",
          "Sipah-I-Mohammed",
          "Armed Forces of Popular Resistance (FARP)",
          "Vietnamese Refugees",
          "The Order II (Bruder Schweigen Strike Force II)",
          "Right-Wing Group",
          "Al-Badr",
          "Iranian extremists",
          "Aitarak Militia",
          "Besi Merah Putih Militia",
          "Al-Nasirin (India)",
          "Anti-Independence extremists",
          "Liberation Army for Presevo, Medvedja and Bujanovac (UCPMB)",
          "Army of the Republic of Ilirida",
          "Al-Intiqami al-Pakistani",
          "Simon Bolivar Guerrilla Coordinating Board (CGSB)",
          "Americans for a Competent Federal Judicial System",
          "Grupo Estrella",
          "Kach",
          "Serbian extremists",
          "Christian Liberation Army",
          "Yemenis",
          "Tontons Macoutes",
          "Rastas",
          "Proletarian Nuclei for Communism",
          "Popular Resistance (Laiki Antistasi)",
          "Vigorous Burmese Student Warriors",
          "Islamic Shashantantra Andolon (ISA)",
          "Anti-Zionist Movement",
          "Tribal Group",
          "Republic of New Afrika",
          "Imam Hussein Brigade",
          "Khmer Rouge",
          "May 98",
          "Odua Peoples' Congress (OPC)",
          "Revolutionary Force 26",
          "Anarchist Faction",
          "Armed People",
          "Popular Army Vanguards- Battalions of Return",
          "Right-Wing Death Squad",
          "Bandits",
          "South Londonderry Volunteers (SLV)",
          "Kurdish Democratic Party-Iraq (KDP)",
          "Al-Ma'unah",
          "Al-Ahwaz Arab People's Democratic Front",
          "Hizb al-Tahrir al-Islami (HT)",
          "United Jihad Council",
          "Revolutionary Proletarian Initiative Nuclei (NIPR)",
          "Puerto Rican Resistance Movement",
          "Catholic Reaction Force",
          "International Solidarity",
          "Al-Gama'at al-Islamiyya (IG)",
          "Guerrillas",
          "Government Supporters",
          "1920 Revolution Brigades",
          "Save Our Israel Land",
          "Draa El Mizan Seriat",
          "Americans for Justice",
          "Georgian extremists",
          "Angry Brigade (Italy)",
          "Squadrons of Terror (Katibat El Ahoual)",
          "Revolutionary Workers' Council (Kakurokyo)",
          "Supporters of Colonel Mahmud Khudoyberdiyev",
          "Orfei Harsha'am",
          "Al-Madani Brigade",
          "Armenian extremists",
          "Rafallah al-Sahati Brigade",
          "Knights of Janzour",
          "Association of Mobil Spill Affected Communities (AMSAC)",
          "Pemuda Pancasila",
          "Mahdaviyat",
          "Anti-Imperialist Commando",
          "New Revolutionary Alternative (NRA)",
          "Tigers",
          "Mitiga Militia",
          "Libyan Militia",
          "People's Defense Unit (Turkey)",
          "Hamza Combat Group against Atheism and Heresy",
          "Fight Against Authority",
          "Achik National Cooperative Army (ANCA)",
          "Random Anarchists",
          "Support of Ocalan-The Hawks of Thrace",
          "Hafiz Gul Bahadur Group",
          "Anarchist Attack Consortium",
          "Jund Ansar Allah",
          "The Front for the Liberation of the Cabinda Enclave - Renewed (FLEC)",
          "Ansar Sarallah",
          "Sword of Islam",
          "Revenge Movement",
          "Anti-Environmentalists",
          "Kharkiv Partisans",
          "Anarchist Anti-Capitalist Action Group",
          "Mawlawi and Mansour Group",
          "SKIF Detachment",
          "Bru Democratic Front of Mizoram (BDFM)",
          "Proletarian Solidarity",
          "Yazidi extremists",
          "Matan Abdulle",
          "Al-Zintan Revolutionaries' Military Council",
          "Children of November",
          "German Resistance Movement",
          "National Democratic Alliance of Sudan",
          "Ahle Sunnat Wal Jamaat (ASWJ-Pakistan)",
          "Manipur Nationalist Revolutionary Party (MNRP)",
          "Kouweikhat Group",
          "Lehava",
          "Jund al-Khilafa",
          "Al-Jihad (Pakistan)",
          "Proletarian Assault Group",
          "Anti-Yanukovych extremists",
          "Anti-Racist Guerrilla Nuclei",
          "Bani Jaber tribe",
          "English Defense League (EDL)",
          "Gazteriak",
          "Borderless Solidarity Cell (BSC)",
          "Pro-Pakistani extremists",
          "East Turkistan Liberation Organization",
          "Civilian Joint Task Force (JTF)",
          "Detonators of Social Uprisings",
          "Friendly Company",
          "Unsubordinated Desires",
          "Pahadi Cheetah",
          "Zuwar al-Imam Rida",
          "Four Martyrs Brigade",
          "Sanatan Sanstha",
          "Angry Foxes Cell",
          "Defenders of the Nation's Sovereignty",
          "Fatherland and Liberty Nationalist Front (FNPL - Frente Nacionalista Patria y Libertad FNPL)",
          "Youth of Islamic Awakening",
          "United Revolutionary Front",
          "Anti-Gentrification Front",
          "Erotic Anti-authority Cells",
          "Golden Dawn",
          "Wild Freedom",
          "28s",
          "Revolutionary Leninist Brigades",
          "Autonomous Decorators",
          "Beli Orlovi (White Eagles)",
          "Bengali Tiger Force (BTF)",
          "National Socialist Council of Nagaland",
          "Al-Nawaz",
          "Zionist Resistance Fighters",
          "Anti-Capitalist Action",
          "Sayfullakh",
          "Zehri Youth Force (ZYF)",
          "Abdul Qader Husseini Battalions of the Free Palestine movement",
          "Vanguards of the Caliphate",
          "Tribal guerrillas",
          "Powers of the Revolutionary Arc",
          "Liwa al-Tawhid",
          "Partisan Sharpshooters",
          "Tamil Nadu Liberation Army",
          "Tehrik-e-Khilafat",
          "Jaish as-Saiyouf (Army of Swords)",
          "Guadalcanal Liberation Army",
          "Fatherland",
          "Russian Unity",
          "Supporters of Ernest Wamba dia Wamba",
          "National Army for the Liberation of Uganda (NALU)",
          "People's Sovereignty Party (PDR)",
          "People's Liberation Organization of Tamil Eelam",
          "Student Network of Mandalay",
          "Jarrai",
          "White Wolves (UK)",
          "Red Line",
          "Al-Qaqa Brigade",
          "Human Rights Renewal Movement (Renovacion por los Derechos Humanos)",
          "National Liberation Council of Taniland",
          "Mahidi",
          "Aba Cheali Group",
          "Union of Revolutionary Communists in Turkey (TIKB)",
          "Ummah Liberation Army",
          "Militant People's Revolutionary Forces",
          "Ansaru ash-Sharia (Russia)",
          "Jaime Bateman Cayon Group (JBC)",
          "Jaish al-Mukhtar",
          "Ariska Brodraskapet (Aryan Brotherhood)",
          "Anti-State Proletarian Nuclei",
          "Unification Army Sons Brigade",
          "Hells Angels",
          "Jund al-Islam",
          "Tabu Tribe",
          "Achik Tiger Force",
          "Peasant Self-Defense Group (ACCU)",
          "Magahat Militia",
          "Revolutionary Army",
          "Abdul Ghani Kikli Militia",
          "Thadou People's Liberation Army (TPLA)",
          "People's Temple",
          "Cells of Direct Attack - Living Waste Group",
          "Conspiracy of Vengeful Arsonists",
          "United Achik National Front (UANF)",
          "Coordination of Azawad Movements (CMA)",
          "Council for Justice in Azawad",
          "Naga extremists",
          "Anti-Arab extremists",
          "Mai Mai Simba Militia",
          "South East Antrim Brigade",
          "Rajput extremists",
          "African-American extremists",
          "Jabha East Africa",
          "Lolita Lebron Puerto Rican Liberation Command",
          "Palestine Liberation Organization (PLO)",
          "Good Vision Party (India)",
          "Croatian Nationalists",
          "People's Revolutionary Movement (MRP)",
          "Misanthropic Division",
          "Shura Council of Benghazi Revolutionaries",
          "People's Brigade For A Healthy Genetic Future",
          "Islamic State in the Greater Sahara (ISGS)",
          "Revolutionary Communist Youth Brigade (RCYB)",
          "Gaddafi loyalists",
          "Bharatiya Janata Party",
          "Nordic Resistance Movement",
          "Action Squad",
          "Croatian Freedom Fighters",
          "Al-Zawiya Syndicates Council",
          "Anti-Park extremists",
          "Jharkhand Kranti Raksha Dal (Utari Chotanagpur)",
          "Sindh Revolutionary Army",
          "The Independent Military Wing of the Syrian Revolution Abroad",
          "Al-Fateh Al-Jadid",
          "Popular Resistance Committees (Yemen)",
          "Hawaiian extremists",
          "Fred Hampton Unit of the People's Forces",
          "Kamwina Nsapu Militia",
          "Fight Xenophobia",
          "Stop the War Coalition",
          "Anti-Communist extremists",
          "White Panther Party",
          "Revolutionary Force Seven",
          "Indigenous People of Biafra (IPOB)",
          "Christian State-Holy Rus",
          "Black Afro Militant Movement",
          "The Nocturnals",
          "The World United Formosans for Independence (WUFI)",
          "Informal Feminist Commando for Anti-authoritarian Action",
          "Anarchist Collective of Kallithea-Moschato",
          "Feminist extremists",
          "Revolutionary Force 9",
          "Sikh Extremists",
          "Crypteia",
          "Nepali Congress Party (NC)",
          "Bedouin Israeli extremists",
          "Arakan Rohingya Salvation Army (ARSA)",
          "Sons of Liberty",
          "South Sudanese extremists",
          "Irrintzi",
          "Armenian Group",
          "Corsican Nationalists",
          "Supporters of Charles Manson",
          "National Socialist Council of Nagaland-Reformation (NSCN-R)",
          "Popular Front for the Renaissance of the Central African Republic (FPRC)",
          "Ananda Marga",
          "Niger Delta Forest Army (NDFA)",
          "Niger Delta extremists",
          "Arab-Israeli extremists",
          "Secret Cuban Government",
          "Anti-Republican extremists",
          "Comrades in Arms",
          "Liberal Democratic Council for Missing Land",
          "Equilibrio Nacional",
          "United Party for National Development (UPND)",
          "Justicieros de la Frontera",
          "Tehrik-e-Hurriyat (TeH)",
          "Martyr al-Nimr Battalion",
          "Thanthai Periyar Dravidar Kazhagam (TPDK)",
          "Jewish Fighting Organization (Eyal)",
          "Jai Shri Ram Hindu Bhai Group",
          "Fighting Guerrilla Formation",
          "Free Libya Martyrs Brigade",
          "Tepi Youth",
          "Freital Group",
          "Inkatha Freedom Party (IFP)",
          "Anti-Sikh extremists",
          "Union of Peaceful Citizens of Algeria",
          "Bangladesh Tiger Force",
          "Ansar al-Imam Musa al-Sadr",
          "Kata'ib al-Imam Ali",
          "Boricua Revolutionary Front",
          "Lekagak Tenggamati",
          "Citizens for Constitutional Freedom",
          "Harakat al-Nujaba",
          "Achik Matgrik Army (AMA)",
          "Misrata Brigades",
          "Death Squad (Iraq)",
          "Mexican Revolutionary Movement",
          "Anti-Christian extremists",
          "United National Liberation Front of WESEA (UNLFW)",
          "Supporters of the Islamic State in Jerusalem",
          "Abu Nidal Organization (ANO)",
          "Wolves of Islam",
          "Muslims Against Global Oppression (MAGO)",
          "Banyamulenge rebels",
          "Odessa Underground",
          "White Legion (Georgia)",
          "May 15",
          "National Liberation Front (Ecuador)",
          "Free and Democratic Society of Eastern Kurdistan (KODAR)",
          "Supporters of Ali Mahdi Mohammed",
          "Macina Liberation Front (FLM)",
          "Zviadists",
          "Union of Democratic Forces",
          "National People's Party (Rashtriya Janata Dal - RJD)",
          "Fourth Reich Skinheads",
          "Antagonistic Nuclei of the New Urban Guerrilla",
          "Cossack Separatists",
          "Opponents of disabled people",
          "Red Scorpion",
          "United Jewish Underground",
          "Black Hebrew Israelites",
          "May 15 Organization for the Liberation of Palestine",
          "Antonia Martinez Student Commandos (AMSC)",
          "Mai Mai Manu Militia",
          "Sasna Tsrer",
          "Niger Delta Justice Defense Group (NDJDG)",
          "Anti-Trump extremists",
          "Black Brigade (United States)",
          "Dashmesh Regiment",
          "Unrepentant Anarchists",
          "Anti-Communist Viets Organization",
          "Jewish Defenders",
          "Chama Pueblo en Rebelion",
          "The 78 Unemployed",
          "Les Casseurs",
          "Islamic Movement for the Liberation of Raja",
          "Kuki Independent Organization (KIO/KIA)",
          "Mormon Extremist",
          "Earth Night Action Group",
          "Arakan Army (AA)",
          "Anti-feminist extremists",
          "Fezzan Province of the Islamic State",
          "Court Reform extremists",
          "Organization Alliance of Cuban Intransigence",
          "Jaish al-Umar (JaU)",
          "Guerrilla Forces for Liberation",
          "National Democratic Alliance (NDA)",
          "Tripura Group",
          "Tribal Revolutionary Army (TRA)",
          "El Movimiento Revolucionario Independinista",
          "Revolutionary Communist Centre (RCC)",
          "Red Egbesu Water Lions",
          "Tiwa Liberation Army",
          "Anti-Technology extremists",
          "National Liberation Army (Ecuador)",
          "International Revolutionary Front",
          "Grupo de Combatientes Populares",
          "Niger Delta Vigilante (NDV)",
          "Supporters of Johnny Adair",
          "Shan United Revolutionary Army",
          "Naga People's Council (NPC)",
          "Islamic Fateh",
          "Ramzi Nahra Martyr Organization",
          "Harakat ul-Mujahidin Al-Almi",
          "Madhesi Virus Killers",
          "Young Liberators of Pattani",
          "Niger Delta Freedom Fighters (NDDF)",
          "Jerusalem Groups Hebrew (Qvutzot Yerushalayim)",
          "All Kamatapur Liberation Force",
          "Anti-Kim Jong-il extremists",
          "Abkhazian Separatists",
          "14 March Coalition",
          "Juarez Cartel (Carrillo-Fuentes / Mexico)",
          "Front for Peace and Reconciliation (FRP)",
          "Anti-Liberal extremists",
          "Vanguard of Red Youth (AKM)",
          "White Legion (Ecuador)",
          "Progressive Socialist Party (PSP)",
          "Egyptians",
          "Jihadi Movement of the Sunna People of Iran",
          "Left-Wing Guerrillas",
          "Muslim United Army (MUA)",
          "Forbidden Blockade (Greece)",
          "Comando Malvinas Argentinas",
          "LW",
          "Pokot extremists",
          "Hmar People's Convention-Democracy (HPC-D)",
          "Amal",
          "Al-Mujahedin Brigades (Palestine)",
          "Saif-ul-Muslimeen",
          "The War That Was Never Declared",
          "Enraged Revolutionaries",
          "Zemun Clan",
          "Future movement (Lebanon)",
          "Syrian Social Nationalist Party",
          "Guadalcanal Liberation Front (GLF)",
          "Janatantrik Terai Mukti Morcha- Ranbir Singh (JTMM-RS)",
          "Biswabhumi Sena Bishal Nepal",
          "National Liberation Army (Nepal)",
          "Fanmi Lavalas",
          "Laskar Jihad",
          "Porattom",
          "Hushaysh Tribal Members",
          "Mongolian Mukti Morcha",
          "Grozny Jamaat",
          "Bhisan Himali Bag",
          "Himali Tigers",
          "Red Brigades Fighting Communist Union (BR-UCC)",
          "Macedonian nationalists",
          "U/I Snipers",
          "Tibetan separatists",
          "Nihilists Faction",
          "Revolutionary Force",
          "Habr Gedir Clan",
          "Revolutionary Headquarters (Turkey)",
          "Citizen's Rights Protection Volunteers",
          "Congolese Patriotic Resistence-Patriotic Armed Forces (Pareco/FAP)",
          "Didier Ratsiraka's Militia",
          "Ahlu-sunah Wal-jamea (Somalia)",
          "New Revolutionary Popular Struggle (NELA)",
          "Democratic Iraqi Opposition of Germany",
          "Forest Brothers",
          "Ed'daoua Es'salafia Lilqadha",
          "Gulf Cartel",
          "Army of State Liberators",
          "Forces for the Unification of the Central African Republic (FIRCA)",
          "Rabid Brothers of Giuliani",
          "Sardinian Autonomy Movement",
          "Face to Face (Face-a-Face)",
          "Incendiary Committee of Solidarity for Detainees",
          "Congolese Rally for Democracy (RCD)",
          "Communist Party of Nepal- Unified Marxist-Leninist (CPN-UML)",
          "Lashkar-e-Omar",
          "Rastriya Janashakti Party (RJP)",
          "Militant Organization of Russian Nationalists",
          "Afghan Revolutionary Front",
          "Swaziland Youth Congress (Swayoco)",
          "Popular Revolutionary Action",
          "The Nation's Army",
          "Jaish Al-Umma (Army of the Nation)",
          "Nationalist Integrationist Front (FNI)",
          "Tela Mohammed",
          "El-Feth katibat",
          "Jihadist Soldiers",
          "Islamic Companies",
          "Badr Brigades",
          "National Redemption Front",
          "Islamic Swords of Justice in the Land of Ribat",
          "Rally of Democratic Forces (RAFD)",
          "National Anti-Corruption Front (FNA)",
          "Al-Nasireen Group",
          "Omar Bin Khattab Group",
          "Organization of Soldiers of the Levant",
          "Mahsud Tribe",
          "Bunda Dia Kongo (BDK)",
          "Brigades of Iman Hassan-al-Basri",
          "Islamic Movement of Iraqi Mujahidin",
          "Jund al-Sahabah Group",
          "Arbav Martyrs of Khuzestan",
          "Martyr Sami al-Ghul Brigades",
          "Revenge Brigade",
          "Al-Qaida in Lebanon",
          "Ansar al-Tahwid wal Sunna",
          "People's United Democratic Movement (PUDEMO)",
          "Young Officer Union of the New Generation and Reformist Armed Forces of the Philippines (YOU-RAFP)",
          "Mujahedeen Army",
          "Fuerzas Autonómicas y Destructivas León Czolgoscz",
          "Kurdish Separatists",
          "Al-Qaida Organization for Jihad in Sweden",
          "Islamic Tendency",
          "National Liberation Alliance of Sa Kaeo",
          "Mujahidin Ambon",
          "All Ethiopian Unity Party (AEUP)",
          "Karbi Tribe",
          "Gugama Youth Federation",
          "Banner of Islam",
          "Sunni Supporters",
          "Balochistan National Army",
          "National Socialist Underground",
          "Salafi Daawa Group",
          "Al-Fajr",
          "United Janatantrik Terai Mukti Morcha (U-JTMM)",
          "Loyalist Action Force",
          "Union of Congolese Patriots (UPC)",
          "Bhumi Uchched Pratirodh Committee (BUPC)",
          "Union Parishad",
          "Democratic Movement for the Liberation of the Eritrean Kunamas (DMLEK)",
          "Free Democratic People's Government of Laos",
          "Kashmir Freedom Force",
          "Union of Chadian Forces (UFNT)",
          "Alcubar group",
          "Fedayeen Imam Mahdi",
          "Supporters of Sultan Abd-al-Bagi",
          "Armed Vanguards of a Second Mohammed Army",
          "United Democratic Terai Liberation Front (UDTLF)",
          "Egbema National Front",
          "The Jean Marc Rouillan Armed and Heartless Columns",
          "The Inevitables",
          "Moroccan extremists",
          "Ansar al-Jihad",
          "Anonymous Underground Movement (MCA)",
          "Tuareg Guerrillas",
          "Hofstad Network",
          "Anbar Salvation Council",
          "Jaish al-Muslimin (Army of the Muslims)",
          "French Armed Islamic Front",
          "Anti-Apostate Movement Alliance (AGAP)",
          "Diyala Salvation Council",
          "Just Punishment Brigades",
          "Mujahedeen Brigades",
          "Al Zawahiri Loyalists",
          "Popular Army for the Restoration of Democracy (APRD)",
          "Jenin Martyrs Brigades",
          "Khalid ibn Walid Brigade",
          "Resistance Cell",
          "Janatantrik Terai Mukti Morcha- Bisphot Singh (JTMM-B)",
          "Itsekiri",
          "Anti-Israeli extremists",
          "All India Anna Dravida Munetra Kazgan Party",
          "Pentagon Kidnap Group",
          "Chakma tribal group",
          "Anarchists Attack Team",
          "Kuki National Liberation Front (KNLF)",
          "Muslim United Liberation Tigers of Assam (MULTA)",
          "Jordanian Islamic Resistance",
          "Civil War Veterans",
          "Liberation and Justice Movement (LJM)",
          "U/I Liberian Gunmen",
          "Comando Autónomo Voltaire Argandoña",
          "The Islamic Revolution to Liberate Palestine",
          "Revolutionary Insurgent Armed Forces of Ecuador (FAIRE)",
          "Eritrean Salvation Front (ESF)",
          "National Bolshevik Party (Partiya Natsionalnikh Bolshevikov - PNB)",
          "The Husayn Ubayyat Martyrs' Brigades",
          "Zintani Militia",
          "Core Conspirators for the Extension of Chaos (Núcleo de Conspiradores por la Extensión de Kaos)",
          "Adivasi Cobra Militants of Assam (ACMA)",
          "U/I Somali Militiamen",
          "Intifada Martyrs",
          "Provisional RSPCA",
          "God's Army",
          "Baloch Mussalah Diffah Tanzim (BMDT)",
          "Anarkista Jorge Banos Front of the Everyone For The Homeland Movement (MTP)",
          "Army of Islam",
          "Delta Democratic Militia",
          "Misseriya Arab Tribesmen",
          "Civil Association for Peace in Colombia, Asocipaz",
          "Black Hawks (Anti-Wahhabists)",
          "Al-Bakazim",
          "Madhesh Mukti Sangram (MMS)",
          "Joint Meeting Parties (JMP)",
          "Marhan Clan",
          "Chukakuha Revolutionary Army",
          "Arab People's Group",
          "Supporters of Saddam Hussein",
          "Sanghiya Limbuwan Committee (SLC)",
          "Civic United Front (CUF)",
          "Arab Socialist Baath Party of Iraq",
          "Qari Kamran Group",
          "Tehrik-e-Taliban Islami (TTI)",
          "Urban Guerrilla War",
          "Supporters of General Lino Oviedo",
          "Kawal ng Pilipinas (Soldier of the Philippines)",
          "Brigade of al-Mukhtar al-Thaqafi",
          "Fundamentalists",
          "Dissident Republican Guard",
          "Baby Liberation Army",
          "Fighters of Democratic Latvia",
          "Yakariya Bango Insurgent Group",
          "Zomi Revolutionary Army (ZRA)",
          "Anarchist Struggle",
          "Revenge of the Trees",
          "Sudurpaschim Janata Dal",
          "Iconoclasts",
          "Diraa al-Shahbaa Rebel Brigade",
          "Tawheedul Islam",
          "Last Generation",
          "Serb Radical Party",
          "Zetas",
          "Republican Action Against Drugs (RAAD)",
          "Corsican Separatists",
          "Uighur Liberation Organization",
          "National Committee for the Restoration of Democracy and State (CNRDR)",
          "Akhilesh Singh Gang",
          "Federation of Students and Scholars of Cote d'Ivoire (FESCI)",
          "Supporters of Ali Abdullah Saleh",
          "Civilian Defense",
          "Secessionists",
          "Anti-Communist Command (KAK)",
          "Isatabu Freedom Movement (IFM)",
          "Knights Templar (Caballeros Templarios)",
          "Force Etudiante Critique",
          "Former Soldiers/Police",
          "Friends of Loukanikos",
          "Chukakuha (Middle Core Faction)",
          "Villagers",
          "West Side Boys",
          "Nepalbad Party",
          "Animal Rights Militia",
          "Bangladesh Sarbahara Party",
          "Terai Rastriya Mukti Sena (TRMS)",
          "Volunteers of Innocent People of Nagas (VIPN)",
          "Group of Carlo Giuliani",
          "The Black Sun",
          "Kokang",
          "Parbatya Chattagram Jana Sanghati Samity (PCJSS) - Bangladesh",
          "Anarchist Squad",
          "Gholam Yahya Akbar",
          "Bangsamoro National Liberation Army",
          "Georgian Militants",
          "Abkhazian guerrillas",
          "Council for the Destruction of Order",
          "Gilad Shalhevet Brigades",
          "Free Vietnam Movement",
          "Al-Jub Tribe",
          "Convention of Patriots for Justice and Peace",
          "Hoodie Wearers",
          "Anarchist Action (CA / United States)",
          "Black and Red Anarchist and Anti-Authoritarians Initiative (Greece)",
          "Urhobo Revolutionary Army",
          "Black Eagles",
          "Anarchist Liberation Brigade",
          "Bodo People's Front (BPF)",
          "Karenni National Progressive Party",
          "Indigenous People's Federal Army (IPFA)",
          "Minutemen American Defense",
          "Alexandros Grigoropoulos Anarchist Attack Group",
          "Mujahedin Kompak",
          "Kara clan",
          "Association Totalement Anti-Guerre (ATAG)",
          "Terena Indians",
          "Militant Forces Against Huntingdon",
          "Naga People",
          "Habi's Er'roub seriat",
          "Musa Sudi Yalahow Militia",
          "Iraqi Sunni Extremists",
          "Deniers of Holidays",
          "Achik National Volunteer Council (ANVC)",
          "Nobles of Jordan",
          "Fatah Hawks",
          "Terai Janatantrik Party",
          "Jacinto Araujo Internationalist Rebel Insurrectionist Brigade",
          "Dissident",
          "Baloch Militant Defense Army",
          "Swatantra Nepal Dal",
          "Dayak gang",
          "Aniban ng Ayaw sa Komunista (ANAK) ",
          "Angola Rebels",
          "Wahhabi Movement",
          "Groups for Dissemination of Revolutionary Theory and Action",
          "Haika",
          "Fighting For Freedom Coalition (FFFC-Ottawa)",
          "Karabulak Gang",
          "Mouhajiroune Brigade",
          "Liberation War Veterans Association",
          "Vandalicia Teodoro Suarez",
          "Tamils",
          "Terai Madheshi Mukti Morcha (TMMM)",
          "Jund Al-Tawid",
          "Rodolfo Walsh National Command",
          "Supporters of Muhammad Umar Habib",
          "Paramilitary members",
          "Afghans",
          "Hezbollah Palestine",
          "Al-Hamas Mujahideen",
          "Ethiopians",
          "Red Sea Afar Democratic Organization (RSADO)",
          "Asbat al-Ansar",
          "Revolutionary Continuity",
          "National League for Democracy",
          "Revolutionary Violence Units",
          "Aqmur",
          "Terai Janatantrik Madhes Party",
          "Croat Democratic Union",
          "Zapatista National Liberation Army",
          "Sisters in Arms",
          "Rebellious Group Lambros Foundas",
          "People's Democratic Struggle Movement",
          "Supporters of Muse Sudi Yalahow",
          "Fatoni Warriors"
         ],
         "parents": [
          "",
          "",
          "",
          "",
          "",
          "",
          "",
          "",
          "",
          "",
          "",
          "",
          "",
          "",
          "",
          "",
          "",
          "",
          "",
          "",
          "",
          "",
          "",
          "",
          "",
          "",
          "",
          "",
          "",
          "",
          "",
          "",
          "",
          "",
          "",
          "",
          "",
          "",
          "",
          "",
          "",
          "",
          "",
          "",
          "",
          "",
          "",
          "",
          "",
          "",
          "",
          "",
          "",
          "",
          "",
          "",
          "",
          "",
          "",
          "",
          "",
          "",
          "",
          "",
          "",
          "",
          "",
          "",
          "",
          "",
          "",
          "",
          "",
          "",
          "",
          "",
          "",
          "",
          "",
          "",
          "",
          "",
          "",
          "",
          "",
          "",
          "",
          "",
          "",
          "",
          "",
          "",
          "",
          "",
          "",
          "",
          "",
          "",
          "",
          "",
          "",
          "",
          "",
          "",
          "",
          "",
          "",
          "",
          "",
          "",
          "",
          "",
          "",
          "",
          "",
          "",
          "",
          "",
          "",
          "",
          "",
          "",
          "",
          "",
          "",
          "",
          "",
          "",
          "",
          "",
          "",
          "",
          "",
          "",
          "",
          "",
          "",
          "",
          "",
          "",
          "",
          "",
          "",
          "",
          "",
          "",
          "",
          "",
          "",
          "",
          "",
          "",
          "",
          "",
          "",
          "",
          "",
          "",
          "",
          "",
          "",
          "",
          "",
          "",
          "",
          "",
          "",
          "",
          "",
          "",
          "",
          "",
          "",
          "",
          "",
          "",
          "",
          "",
          "",
          "",
          "",
          "",
          "",
          "",
          "",
          "",
          "",
          "",
          "",
          "",
          "",
          "",
          "",
          "",
          "",
          "",
          "",
          "",
          "",
          "",
          "",
          "",
          "",
          "",
          "",
          "",
          "",
          "",
          "",
          "",
          "",
          "",
          "",
          "",
          "",
          "",
          "",
          "",
          "",
          "",
          "",
          "",
          "",
          "",
          "",
          "",
          "",
          "",
          "",
          "",
          "",
          "",
          "",
          "",
          "",
          "",
          "",
          "",
          "",
          "",
          "",
          "",
          "",
          "",
          "",
          "",
          "",
          "",
          "",
          "",
          "",
          "",
          "",
          "",
          "",
          "",
          "",
          "",
          "",
          "",
          "",
          "",
          "",
          "",
          "",
          "",
          "",
          "",
          "",
          "",
          "",
          "",
          "",
          "",
          "",
          "",
          "",
          "",
          "",
          "",
          "",
          "",
          "",
          "",
          "",
          "",
          "",
          "",
          "",
          "",
          "",
          "",
          "",
          "",
          "",
          "",
          "",
          "",
          "",
          "",
          "",
          "",
          "",
          "",
          "",
          "",
          "",
          "",
          "",
          "",
          "",
          "",
          "",
          "",
          "",
          "",
          "",
          "",
          "",
          "",
          "",
          "",
          "",
          "",
          "",
          "",
          "",
          "",
          "",
          "",
          "",
          "",
          "",
          "",
          "",
          "",
          "",
          "",
          "",
          "",
          "",
          "",
          "",
          "",
          "",
          "",
          "",
          "",
          "",
          "",
          "",
          "",
          "",
          "",
          "",
          "",
          "",
          "",
          "",
          "",
          "",
          "",
          "",
          "",
          "",
          "",
          "",
          "",
          "",
          "",
          "",
          "",
          "",
          "",
          "",
          "",
          "",
          "",
          "",
          "",
          "",
          "",
          "",
          "",
          "",
          "",
          "",
          "",
          "",
          "",
          "",
          "",
          "",
          "",
          "",
          "",
          "",
          "",
          "",
          "",
          "",
          "",
          "",
          "",
          "",
          "",
          "",
          "",
          "",
          "",
          "",
          "",
          "",
          "",
          "",
          "",
          "",
          "",
          "",
          "",
          "",
          "",
          "",
          "",
          "",
          "",
          "",
          "",
          "",
          "",
          "",
          "",
          "",
          "",
          "",
          "",
          "",
          "",
          "",
          "",
          "",
          "",
          "",
          "",
          "",
          "",
          "",
          "",
          "",
          "",
          "",
          "",
          "",
          "",
          "",
          "",
          "",
          "",
          "",
          "",
          "",
          "",
          "",
          "",
          "",
          "",
          "",
          "",
          "",
          "",
          "",
          "",
          "",
          "",
          "",
          "",
          "",
          "",
          "",
          "",
          "",
          "",
          "",
          "",
          "",
          "",
          "",
          "",
          "",
          "",
          "",
          "",
          "",
          "",
          "",
          "",
          "",
          "",
          "",
          "",
          "",
          "",
          "",
          "",
          "",
          "",
          "",
          "",
          "",
          "",
          "",
          "",
          "",
          "",
          "",
          "",
          "",
          "",
          "",
          "",
          "",
          "",
          "",
          "",
          "",
          "",
          "",
          "",
          "",
          "",
          "",
          "",
          "",
          "",
          "",
          "",
          "",
          "",
          "",
          "",
          "",
          "",
          "",
          "",
          "",
          "",
          "",
          "",
          "",
          "",
          "",
          "",
          "",
          "",
          "",
          "",
          "",
          "",
          "",
          "",
          "",
          "",
          "",
          "",
          "",
          "",
          "",
          "",
          "",
          "",
          "",
          "",
          "",
          "",
          "",
          "",
          "",
          "",
          "",
          "",
          "",
          "",
          "",
          "",
          "",
          "",
          "",
          "",
          "",
          "",
          "",
          "",
          "",
          "",
          "",
          "",
          "",
          "",
          "",
          "",
          "",
          "",
          "",
          "",
          "",
          "",
          "",
          "",
          "",
          "",
          "",
          "",
          "",
          "",
          "",
          "",
          "",
          "",
          "",
          "",
          "",
          "",
          "",
          "",
          "",
          "",
          "",
          "",
          "",
          "",
          "",
          "",
          "",
          "",
          "",
          "",
          "",
          "",
          "",
          "",
          "",
          "",
          "",
          "",
          "",
          "",
          "",
          "",
          "",
          "",
          "",
          "",
          "",
          "",
          "",
          "",
          "",
          "",
          "",
          "",
          "",
          "",
          "",
          "",
          "",
          "",
          "",
          "",
          "",
          "",
          "",
          "",
          "",
          "",
          "",
          "",
          "",
          "",
          "",
          "",
          "",
          "",
          "",
          "",
          "",
          "",
          "",
          "",
          "",
          "",
          "",
          "",
          "",
          "",
          "",
          "",
          "",
          "",
          "",
          "",
          "",
          "",
          "",
          "",
          "",
          "",
          "",
          "",
          "",
          "",
          "",
          "",
          "",
          "",
          "",
          "",
          "",
          "",
          "",
          "",
          "",
          "",
          "",
          "",
          "",
          "",
          "",
          "",
          "",
          "",
          "",
          "",
          "",
          "",
          "",
          "",
          "",
          "",
          "",
          "",
          "",
          "",
          "",
          "",
          "",
          "",
          "",
          "",
          "",
          "",
          "",
          "",
          "",
          "",
          "",
          "",
          "",
          "",
          "",
          "",
          "",
          "",
          "",
          "",
          "",
          "",
          "",
          "",
          "",
          "",
          "",
          "",
          "",
          "",
          "",
          "",
          "",
          "",
          "",
          "",
          "",
          "",
          "",
          "",
          "",
          "",
          "",
          "",
          "",
          "",
          "",
          "",
          "",
          "",
          "",
          "",
          "",
          "",
          "",
          "",
          "",
          "",
          "",
          "",
          "",
          "",
          "",
          "",
          "",
          "",
          "",
          "",
          "",
          "",
          "",
          "",
          "",
          "",
          "",
          "",
          "",
          "",
          "",
          "",
          "",
          "",
          "",
          "",
          "",
          "",
          "",
          "",
          "",
          "",
          "",
          "",
          "",
          "",
          "",
          "",
          "",
          "",
          "",
          "",
          "",
          "",
          "",
          "",
          "",
          "",
          "",
          "",
          "",
          "",
          "",
          "",
          "",
          "",
          "",
          "",
          "",
          "",
          "",
          "",
          "",
          "",
          "",
          "",
          "",
          "",
          "",
          "",
          "",
          "",
          "",
          "",
          "",
          "",
          "",
          "",
          "",
          "",
          "",
          "",
          "",
          "",
          "",
          "",
          "",
          "",
          "",
          "",
          "",
          "",
          "",
          "",
          "",
          "",
          "",
          "",
          "",
          "",
          "",
          "",
          "",
          "",
          "",
          "",
          "",
          "",
          "",
          "",
          "",
          "",
          "",
          "",
          "",
          "",
          "",
          "",
          "",
          "",
          "",
          "",
          "",
          "",
          "",
          "",
          "",
          "",
          "",
          "",
          "",
          "",
          "",
          "",
          "",
          "",
          "",
          "",
          "",
          "",
          "",
          "",
          "",
          "",
          "",
          "",
          "",
          "",
          "",
          "",
          "",
          "",
          "",
          "",
          "",
          "",
          "",
          "",
          "",
          "",
          "",
          "",
          "",
          "",
          "",
          "",
          "",
          "",
          "",
          "",
          "",
          "",
          "",
          "",
          "",
          "",
          "",
          "",
          "",
          "",
          "",
          "",
          "",
          "",
          "",
          "",
          "",
          "",
          "",
          "",
          "",
          "",
          "",
          "",
          "",
          "",
          "",
          "",
          "",
          "",
          "",
          "",
          "",
          "",
          "",
          "",
          "",
          "",
          "",
          "",
          "",
          "",
          "",
          "",
          "",
          "",
          "",
          "",
          "",
          "",
          "",
          "",
          "",
          "",
          "",
          "",
          "",
          "",
          "",
          "",
          "",
          "",
          "",
          "",
          "",
          "",
          "",
          "",
          "",
          "",
          "",
          "",
          "",
          "",
          "",
          "",
          "",
          "",
          "",
          "",
          "",
          "",
          "",
          "",
          "",
          "",
          "",
          "",
          "",
          "",
          "",
          "",
          "",
          "",
          "",
          "",
          "",
          "",
          "",
          "",
          "",
          "",
          "",
          "",
          "",
          "",
          "",
          "",
          "",
          "",
          "",
          "",
          "",
          "",
          "",
          "",
          "",
          "",
          "",
          "",
          "",
          "",
          "",
          "",
          "",
          "",
          "",
          "",
          "",
          "",
          "",
          "",
          "",
          "",
          "",
          "",
          "",
          "",
          "",
          "",
          "",
          "",
          "",
          "",
          "",
          "",
          "",
          "",
          "",
          "",
          "",
          "",
          "",
          "",
          "",
          "",
          "",
          "",
          "",
          "",
          "",
          "",
          "",
          "",
          "",
          "",
          "",
          "",
          "",
          "",
          "",
          "",
          "",
          "",
          "",
          "",
          "",
          "",
          "",
          "",
          "",
          "",
          "",
          "",
          "",
          "",
          "",
          "",
          "",
          "",
          "",
          "",
          "",
          "",
          "",
          "",
          "",
          "",
          "",
          "",
          "",
          "",
          "",
          "",
          "",
          "",
          "",
          "",
          "",
          "",
          "",
          "",
          "",
          "",
          "",
          "",
          "",
          "",
          "",
          "",
          "",
          "",
          "",
          "",
          "",
          "",
          "",
          "",
          "",
          "",
          "",
          "",
          "",
          "",
          "",
          "",
          "",
          "",
          "",
          "",
          "",
          "",
          "",
          "",
          "",
          "",
          "",
          "",
          "",
          "",
          "",
          "",
          "",
          "",
          "",
          "",
          "",
          "",
          "",
          "",
          "",
          "",
          "",
          "",
          "",
          "",
          "",
          "",
          "",
          "",
          "",
          "",
          "",
          "",
          "",
          "",
          "",
          "",
          "",
          "",
          "",
          "",
          "",
          "",
          "",
          "",
          "",
          "",
          "",
          "",
          "",
          "",
          "",
          "",
          "",
          "",
          "",
          "",
          "",
          "",
          "",
          "",
          "",
          "",
          "",
          "",
          "",
          "",
          "",
          "",
          "",
          "",
          "",
          "",
          "",
          "",
          "",
          "",
          "",
          "",
          "",
          "",
          "",
          "",
          "",
          "",
          "",
          "",
          "",
          "",
          "",
          "",
          "",
          "",
          "",
          "",
          "",
          "",
          "",
          "",
          "",
          "",
          "",
          "",
          "",
          "",
          "",
          "",
          "",
          "",
          "",
          "",
          "",
          "",
          "",
          "",
          "",
          "",
          "",
          "",
          "",
          "",
          "",
          "",
          "",
          "",
          "",
          "",
          "",
          "",
          "",
          "",
          "",
          "",
          "",
          "",
          "",
          "",
          "",
          "",
          "",
          "",
          "",
          "",
          "",
          "",
          "",
          "",
          "",
          "",
          ""
         ],
         "type": "sunburst",
         "values": [
          23234,
          1884,
          1654,
          845,
          806,
          797,
          784,
          740,
          642,
          613,
          549,
          379,
          338,
          283,
          278,
          277,
          267,
          249,
          248,
          238,
          236,
          232,
          214,
          193,
          188,
          185,
          174,
          153,
          144,
          140,
          136,
          119,
          119,
          116,
          106,
          104,
          104,
          102,
          102,
          100,
          100,
          99,
          95,
          95,
          93,
          88,
          88,
          85,
          85,
          84,
          74,
          73,
          72,
          72,
          72,
          70,
          68,
          68,
          67,
          64,
          64,
          62,
          61,
          61,
          58,
          57,
          56,
          56,
          55,
          55,
          52,
          52,
          52,
          51,
          51,
          45,
          44,
          42,
          42,
          41,
          40,
          40,
          40,
          39,
          39,
          39,
          38,
          38,
          38,
          38,
          37,
          37,
          37,
          37,
          37,
          37,
          37,
          35,
          35,
          35,
          35,
          34,
          33,
          31,
          31,
          31,
          31,
          31,
          30,
          29,
          28,
          28,
          28,
          27,
          27,
          27,
          27,
          27,
          27,
          25,
          25,
          24,
          24,
          23,
          23,
          23,
          23,
          23,
          23,
          23,
          23,
          23,
          23,
          23,
          23,
          22,
          22,
          22,
          22,
          21,
          21,
          21,
          21,
          21,
          21,
          20,
          20,
          20,
          20,
          19,
          19,
          19,
          19,
          19,
          19,
          19,
          19,
          19,
          19,
          19,
          19,
          18,
          18,
          18,
          18,
          18,
          18,
          17,
          17,
          17,
          17,
          17,
          17,
          17,
          17,
          17,
          17,
          16,
          16,
          16,
          16,
          16,
          16,
          16,
          15,
          15,
          15,
          15,
          15,
          15,
          15,
          15,
          15,
          15,
          15,
          14,
          14,
          14,
          14,
          14,
          13,
          13,
          13,
          13,
          13,
          13,
          13,
          13,
          13,
          13,
          13,
          12,
          12,
          12,
          12,
          12,
          12,
          12,
          12,
          11,
          11,
          11,
          11,
          11,
          11,
          11,
          10,
          10,
          10,
          10,
          10,
          10,
          10,
          10,
          10,
          10,
          10,
          10,
          10,
          9,
          9,
          9,
          9,
          9,
          9,
          9,
          9,
          9,
          9,
          9,
          9,
          9,
          9,
          9,
          9,
          9,
          9,
          9,
          9,
          9,
          9,
          9,
          9,
          8,
          8,
          8,
          8,
          8,
          8,
          8,
          8,
          8,
          8,
          8,
          8,
          8,
          8,
          8,
          8,
          8,
          8,
          8,
          7,
          7,
          7,
          7,
          7,
          7,
          7,
          7,
          7,
          7,
          7,
          7,
          7,
          7,
          7,
          7,
          7,
          7,
          7,
          7,
          7,
          7,
          7,
          7,
          7,
          7,
          6,
          6,
          6,
          6,
          6,
          6,
          6,
          6,
          6,
          6,
          6,
          6,
          6,
          6,
          6,
          6,
          6,
          6,
          6,
          6,
          6,
          6,
          6,
          6,
          6,
          6,
          6,
          6,
          6,
          6,
          6,
          5,
          5,
          5,
          5,
          5,
          5,
          5,
          5,
          5,
          5,
          5,
          5,
          5,
          5,
          5,
          5,
          5,
          5,
          5,
          5,
          5,
          5,
          5,
          5,
          5,
          5,
          5,
          5,
          5,
          5,
          5,
          5,
          5,
          5,
          5,
          5,
          5,
          5,
          5,
          5,
          5,
          5,
          4,
          4,
          4,
          4,
          4,
          4,
          4,
          4,
          4,
          4,
          4,
          4,
          4,
          4,
          4,
          4,
          4,
          4,
          4,
          4,
          4,
          4,
          4,
          4,
          4,
          4,
          4,
          4,
          4,
          4,
          4,
          4,
          4,
          4,
          4,
          4,
          4,
          4,
          4,
          4,
          4,
          4,
          4,
          4,
          4,
          4,
          4,
          4,
          4,
          4,
          4,
          4,
          4,
          4,
          4,
          4,
          4,
          4,
          4,
          4,
          4,
          4,
          3,
          3,
          3,
          3,
          3,
          3,
          3,
          3,
          3,
          3,
          3,
          3,
          3,
          3,
          3,
          3,
          3,
          3,
          3,
          3,
          3,
          3,
          3,
          3,
          3,
          3,
          3,
          3,
          3,
          3,
          3,
          3,
          3,
          3,
          3,
          3,
          3,
          3,
          3,
          3,
          3,
          3,
          3,
          3,
          3,
          3,
          3,
          3,
          3,
          3,
          3,
          3,
          3,
          3,
          3,
          3,
          3,
          3,
          3,
          3,
          3,
          3,
          3,
          3,
          3,
          3,
          3,
          3,
          3,
          3,
          3,
          3,
          3,
          3,
          3,
          3,
          3,
          3,
          3,
          3,
          3,
          3,
          3,
          3,
          3,
          3,
          3,
          3,
          3,
          3,
          3,
          3,
          3,
          3,
          3,
          3,
          3,
          3,
          3,
          3,
          3,
          3,
          3,
          3,
          3,
          3,
          3,
          2,
          2,
          2,
          2,
          2,
          2,
          2,
          2,
          2,
          2,
          2,
          2,
          2,
          2,
          2,
          2,
          2,
          2,
          2,
          2,
          2,
          2,
          2,
          2,
          2,
          2,
          2,
          2,
          2,
          2,
          2,
          2,
          2,
          2,
          2,
          2,
          2,
          2,
          2,
          2,
          2,
          2,
          2,
          2,
          2,
          2,
          2,
          2,
          2,
          2,
          2,
          2,
          2,
          2,
          2,
          2,
          2,
          2,
          2,
          2,
          2,
          2,
          2,
          2,
          2,
          2,
          2,
          2,
          2,
          2,
          2,
          2,
          2,
          2,
          2,
          2,
          2,
          2,
          2,
          2,
          2,
          2,
          2,
          2,
          2,
          2,
          2,
          2,
          2,
          2,
          2,
          2,
          2,
          2,
          2,
          2,
          2,
          2,
          2,
          2,
          2,
          2,
          2,
          2,
          2,
          2,
          2,
          2,
          2,
          2,
          2,
          2,
          2,
          2,
          2,
          2,
          2,
          2,
          2,
          2,
          2,
          2,
          2,
          2,
          2,
          2,
          2,
          2,
          2,
          2,
          2,
          2,
          2,
          2,
          2,
          2,
          2,
          2,
          2,
          2,
          2,
          2,
          2,
          2,
          2,
          2,
          2,
          2,
          2,
          2,
          2,
          2,
          2,
          2,
          2,
          2,
          2,
          2,
          2,
          2,
          2,
          2,
          2,
          2,
          2,
          2,
          2,
          2,
          2,
          2,
          2,
          2,
          2,
          2,
          2,
          2,
          2,
          2,
          2,
          2,
          2,
          2,
          2,
          2,
          2,
          2,
          2,
          2,
          2,
          2,
          2,
          2,
          2,
          2,
          2,
          2,
          2,
          2,
          2,
          2,
          2,
          2,
          2,
          2,
          2,
          1,
          1,
          1,
          1,
          1,
          1,
          1,
          1,
          1,
          1,
          1,
          1,
          1,
          1,
          1,
          1,
          1,
          1,
          1,
          1,
          1,
          1,
          1,
          1,
          1,
          1,
          1,
          1,
          1,
          1,
          1,
          1,
          1,
          1,
          1,
          1,
          1,
          1,
          1,
          1,
          1,
          1,
          1,
          1,
          1,
          1,
          1,
          1,
          1,
          1,
          1,
          1,
          1,
          1,
          1,
          1,
          1,
          1,
          1,
          1,
          1,
          1,
          1,
          1,
          1,
          1,
          1,
          1,
          1,
          1,
          1,
          1,
          1,
          1,
          1,
          1,
          1,
          1,
          1,
          1,
          1,
          1,
          1,
          1,
          1,
          1,
          1,
          1,
          1,
          1,
          1,
          1,
          1,
          1,
          1,
          1,
          1,
          1,
          1,
          1,
          1,
          1,
          1,
          1,
          1,
          1,
          1,
          1,
          1,
          1,
          1,
          1,
          1,
          1,
          1,
          1,
          1,
          1,
          1,
          1,
          1,
          1,
          1,
          1,
          1,
          1,
          1,
          1,
          1,
          1,
          1,
          1,
          1,
          1,
          1,
          1,
          1,
          1,
          1,
          1,
          1,
          1,
          1,
          1,
          1,
          1,
          1,
          1,
          1,
          1,
          1,
          1,
          1,
          1,
          1,
          1,
          1,
          1,
          1,
          1,
          1,
          1,
          1,
          1,
          1,
          1,
          1,
          1,
          1,
          1,
          1,
          1,
          1,
          1,
          1,
          1,
          1,
          1,
          1,
          1,
          1,
          1,
          1,
          1,
          1,
          1,
          1,
          1,
          1,
          1,
          1,
          1,
          1,
          1,
          1,
          1,
          1,
          1,
          1,
          1,
          1,
          1,
          1,
          1,
          1,
          1,
          1,
          1,
          1,
          1,
          1,
          1,
          1,
          1,
          1,
          1,
          1,
          1,
          1,
          1,
          1,
          1,
          1,
          1,
          1,
          1,
          1,
          1,
          1,
          1,
          1,
          1,
          1,
          1,
          1,
          1,
          1,
          1,
          1,
          1,
          1,
          1,
          1,
          1,
          1,
          1,
          1,
          1,
          1,
          1,
          1,
          1,
          1,
          1,
          1,
          1,
          1,
          1,
          1,
          1,
          1,
          1,
          1,
          1,
          1,
          1,
          1,
          1,
          1,
          1,
          1,
          1,
          1,
          1,
          1,
          1,
          1,
          1,
          1,
          1,
          1,
          1,
          1,
          1,
          1,
          1,
          1,
          1,
          1,
          1,
          1,
          1,
          1,
          1,
          1,
          1,
          1,
          1,
          1,
          1,
          1,
          1,
          1,
          1,
          1,
          1,
          1,
          1,
          1,
          1,
          1,
          1,
          1,
          1,
          1,
          1,
          1,
          1,
          1,
          1,
          1,
          1,
          1,
          1,
          1,
          1,
          1,
          1,
          1,
          1,
          1,
          1,
          1,
          1,
          1,
          1,
          1,
          1,
          1,
          1,
          1,
          1,
          1,
          1,
          1,
          1,
          1,
          1,
          1,
          1,
          1,
          1,
          1,
          1,
          1,
          1,
          1,
          1,
          1,
          1,
          1,
          1,
          1,
          1,
          1,
          1,
          1,
          1,
          1,
          1,
          1,
          1,
          1,
          1,
          1,
          1,
          1,
          1,
          1,
          1,
          1,
          1,
          1,
          1,
          1,
          1,
          1,
          1,
          1,
          1,
          1,
          1,
          1,
          1,
          1,
          1,
          1,
          1,
          1,
          1,
          1,
          1,
          1,
          1,
          1,
          1,
          1,
          1,
          1,
          1,
          1,
          1,
          1,
          1,
          1,
          1,
          1,
          1,
          1,
          1,
          1,
          1,
          1,
          1,
          1,
          1,
          1,
          1,
          1,
          1,
          1,
          1,
          1,
          1,
          1,
          1,
          1,
          1,
          1,
          1,
          1,
          1,
          1,
          1,
          1,
          1,
          1,
          1,
          1,
          1,
          1,
          1,
          1,
          1,
          1,
          1,
          1,
          1,
          1,
          1,
          1,
          1,
          1,
          1,
          1,
          1,
          1,
          1,
          1,
          1,
          1,
          1,
          1,
          1,
          1,
          1,
          1,
          1,
          1,
          1,
          1,
          1,
          1,
          1,
          1,
          1,
          1,
          1,
          1,
          1,
          1,
          1,
          1,
          1,
          1,
          1,
          1,
          1,
          1,
          1,
          1,
          1,
          1,
          1,
          1,
          1,
          1,
          1,
          1,
          1,
          1,
          1,
          1,
          1,
          1,
          1,
          1,
          1,
          1,
          1,
          1,
          1,
          1,
          1,
          1,
          1,
          1,
          1,
          1,
          1,
          1,
          1,
          1,
          1,
          1,
          1,
          1,
          1,
          1,
          1,
          1,
          1,
          1,
          1,
          1,
          1,
          1,
          1,
          1,
          1,
          1,
          1,
          1,
          1,
          1,
          1,
          1,
          1,
          1,
          1,
          1,
          1,
          1,
          1,
          1,
          1,
          1,
          1,
          1,
          1,
          1,
          1,
          1,
          1,
          1,
          1,
          1,
          1,
          1,
          1,
          1,
          1,
          1,
          1,
          1,
          1,
          1,
          1,
          1,
          1,
          1,
          1,
          1,
          1,
          1,
          1,
          1,
          1,
          1,
          1,
          1,
          1,
          1,
          1,
          1,
          1,
          1,
          1
         ]
        }
       ],
       "layout": {
        "hovermode": "closest",
        "template": {
         "data": {
          "bar": [
           {
            "error_x": {
             "color": "#2a3f5f"
            },
            "error_y": {
             "color": "#2a3f5f"
            },
            "marker": {
             "line": {
              "color": "#E5ECF6",
              "width": 0.5
             },
             "pattern": {
              "fillmode": "overlay",
              "size": 10,
              "solidity": 0.2
             }
            },
            "type": "bar"
           }
          ],
          "barpolar": [
           {
            "marker": {
             "line": {
              "color": "#E5ECF6",
              "width": 0.5
             },
             "pattern": {
              "fillmode": "overlay",
              "size": 10,
              "solidity": 0.2
             }
            },
            "type": "barpolar"
           }
          ],
          "carpet": [
           {
            "aaxis": {
             "endlinecolor": "#2a3f5f",
             "gridcolor": "white",
             "linecolor": "white",
             "minorgridcolor": "white",
             "startlinecolor": "#2a3f5f"
            },
            "baxis": {
             "endlinecolor": "#2a3f5f",
             "gridcolor": "white",
             "linecolor": "white",
             "minorgridcolor": "white",
             "startlinecolor": "#2a3f5f"
            },
            "type": "carpet"
           }
          ],
          "choropleth": [
           {
            "colorbar": {
             "outlinewidth": 0,
             "ticks": ""
            },
            "type": "choropleth"
           }
          ],
          "contour": [
           {
            "colorbar": {
             "outlinewidth": 0,
             "ticks": ""
            },
            "colorscale": [
             [
              0,
              "#0d0887"
             ],
             [
              0.1111111111111111,
              "#46039f"
             ],
             [
              0.2222222222222222,
              "#7201a8"
             ],
             [
              0.3333333333333333,
              "#9c179e"
             ],
             [
              0.4444444444444444,
              "#bd3786"
             ],
             [
              0.5555555555555556,
              "#d8576b"
             ],
             [
              0.6666666666666666,
              "#ed7953"
             ],
             [
              0.7777777777777778,
              "#fb9f3a"
             ],
             [
              0.8888888888888888,
              "#fdca26"
             ],
             [
              1,
              "#f0f921"
             ]
            ],
            "type": "contour"
           }
          ],
          "contourcarpet": [
           {
            "colorbar": {
             "outlinewidth": 0,
             "ticks": ""
            },
            "type": "contourcarpet"
           }
          ],
          "heatmap": [
           {
            "colorbar": {
             "outlinewidth": 0,
             "ticks": ""
            },
            "colorscale": [
             [
              0,
              "#0d0887"
             ],
             [
              0.1111111111111111,
              "#46039f"
             ],
             [
              0.2222222222222222,
              "#7201a8"
             ],
             [
              0.3333333333333333,
              "#9c179e"
             ],
             [
              0.4444444444444444,
              "#bd3786"
             ],
             [
              0.5555555555555556,
              "#d8576b"
             ],
             [
              0.6666666666666666,
              "#ed7953"
             ],
             [
              0.7777777777777778,
              "#fb9f3a"
             ],
             [
              0.8888888888888888,
              "#fdca26"
             ],
             [
              1,
              "#f0f921"
             ]
            ],
            "type": "heatmap"
           }
          ],
          "heatmapgl": [
           {
            "colorbar": {
             "outlinewidth": 0,
             "ticks": ""
            },
            "colorscale": [
             [
              0,
              "#0d0887"
             ],
             [
              0.1111111111111111,
              "#46039f"
             ],
             [
              0.2222222222222222,
              "#7201a8"
             ],
             [
              0.3333333333333333,
              "#9c179e"
             ],
             [
              0.4444444444444444,
              "#bd3786"
             ],
             [
              0.5555555555555556,
              "#d8576b"
             ],
             [
              0.6666666666666666,
              "#ed7953"
             ],
             [
              0.7777777777777778,
              "#fb9f3a"
             ],
             [
              0.8888888888888888,
              "#fdca26"
             ],
             [
              1,
              "#f0f921"
             ]
            ],
            "type": "heatmapgl"
           }
          ],
          "histogram": [
           {
            "marker": {
             "pattern": {
              "fillmode": "overlay",
              "size": 10,
              "solidity": 0.2
             }
            },
            "type": "histogram"
           }
          ],
          "histogram2d": [
           {
            "colorbar": {
             "outlinewidth": 0,
             "ticks": ""
            },
            "colorscale": [
             [
              0,
              "#0d0887"
             ],
             [
              0.1111111111111111,
              "#46039f"
             ],
             [
              0.2222222222222222,
              "#7201a8"
             ],
             [
              0.3333333333333333,
              "#9c179e"
             ],
             [
              0.4444444444444444,
              "#bd3786"
             ],
             [
              0.5555555555555556,
              "#d8576b"
             ],
             [
              0.6666666666666666,
              "#ed7953"
             ],
             [
              0.7777777777777778,
              "#fb9f3a"
             ],
             [
              0.8888888888888888,
              "#fdca26"
             ],
             [
              1,
              "#f0f921"
             ]
            ],
            "type": "histogram2d"
           }
          ],
          "histogram2dcontour": [
           {
            "colorbar": {
             "outlinewidth": 0,
             "ticks": ""
            },
            "colorscale": [
             [
              0,
              "#0d0887"
             ],
             [
              0.1111111111111111,
              "#46039f"
             ],
             [
              0.2222222222222222,
              "#7201a8"
             ],
             [
              0.3333333333333333,
              "#9c179e"
             ],
             [
              0.4444444444444444,
              "#bd3786"
             ],
             [
              0.5555555555555556,
              "#d8576b"
             ],
             [
              0.6666666666666666,
              "#ed7953"
             ],
             [
              0.7777777777777778,
              "#fb9f3a"
             ],
             [
              0.8888888888888888,
              "#fdca26"
             ],
             [
              1,
              "#f0f921"
             ]
            ],
            "type": "histogram2dcontour"
           }
          ],
          "mesh3d": [
           {
            "colorbar": {
             "outlinewidth": 0,
             "ticks": ""
            },
            "type": "mesh3d"
           }
          ],
          "parcoords": [
           {
            "line": {
             "colorbar": {
              "outlinewidth": 0,
              "ticks": ""
             }
            },
            "type": "parcoords"
           }
          ],
          "pie": [
           {
            "automargin": true,
            "type": "pie"
           }
          ],
          "scatter": [
           {
            "fillpattern": {
             "fillmode": "overlay",
             "size": 10,
             "solidity": 0.2
            },
            "type": "scatter"
           }
          ],
          "scatter3d": [
           {
            "line": {
             "colorbar": {
              "outlinewidth": 0,
              "ticks": ""
             }
            },
            "marker": {
             "colorbar": {
              "outlinewidth": 0,
              "ticks": ""
             }
            },
            "type": "scatter3d"
           }
          ],
          "scattercarpet": [
           {
            "marker": {
             "colorbar": {
              "outlinewidth": 0,
              "ticks": ""
             }
            },
            "type": "scattercarpet"
           }
          ],
          "scattergeo": [
           {
            "marker": {
             "colorbar": {
              "outlinewidth": 0,
              "ticks": ""
             }
            },
            "type": "scattergeo"
           }
          ],
          "scattergl": [
           {
            "marker": {
             "colorbar": {
              "outlinewidth": 0,
              "ticks": ""
             }
            },
            "type": "scattergl"
           }
          ],
          "scattermapbox": [
           {
            "marker": {
             "colorbar": {
              "outlinewidth": 0,
              "ticks": ""
             }
            },
            "type": "scattermapbox"
           }
          ],
          "scatterpolar": [
           {
            "marker": {
             "colorbar": {
              "outlinewidth": 0,
              "ticks": ""
             }
            },
            "type": "scatterpolar"
           }
          ],
          "scatterpolargl": [
           {
            "marker": {
             "colorbar": {
              "outlinewidth": 0,
              "ticks": ""
             }
            },
            "type": "scatterpolargl"
           }
          ],
          "scatterternary": [
           {
            "marker": {
             "colorbar": {
              "outlinewidth": 0,
              "ticks": ""
             }
            },
            "type": "scatterternary"
           }
          ],
          "surface": [
           {
            "colorbar": {
             "outlinewidth": 0,
             "ticks": ""
            },
            "colorscale": [
             [
              0,
              "#0d0887"
             ],
             [
              0.1111111111111111,
              "#46039f"
             ],
             [
              0.2222222222222222,
              "#7201a8"
             ],
             [
              0.3333333333333333,
              "#9c179e"
             ],
             [
              0.4444444444444444,
              "#bd3786"
             ],
             [
              0.5555555555555556,
              "#d8576b"
             ],
             [
              0.6666666666666666,
              "#ed7953"
             ],
             [
              0.7777777777777778,
              "#fb9f3a"
             ],
             [
              0.8888888888888888,
              "#fdca26"
             ],
             [
              1,
              "#f0f921"
             ]
            ],
            "type": "surface"
           }
          ],
          "table": [
           {
            "cells": {
             "fill": {
              "color": "#EBF0F8"
             },
             "line": {
              "color": "white"
             }
            },
            "header": {
             "fill": {
              "color": "#C8D4E3"
             },
             "line": {
              "color": "white"
             }
            },
            "type": "table"
           }
          ]
         },
         "layout": {
          "annotationdefaults": {
           "arrowcolor": "#2a3f5f",
           "arrowhead": 0,
           "arrowwidth": 1
          },
          "autotypenumbers": "strict",
          "coloraxis": {
           "colorbar": {
            "outlinewidth": 0,
            "ticks": ""
           }
          },
          "colorscale": {
           "diverging": [
            [
             0,
             "#8e0152"
            ],
            [
             0.1,
             "#c51b7d"
            ],
            [
             0.2,
             "#de77ae"
            ],
            [
             0.3,
             "#f1b6da"
            ],
            [
             0.4,
             "#fde0ef"
            ],
            [
             0.5,
             "#f7f7f7"
            ],
            [
             0.6,
             "#e6f5d0"
            ],
            [
             0.7,
             "#b8e186"
            ],
            [
             0.8,
             "#7fbc41"
            ],
            [
             0.9,
             "#4d9221"
            ],
            [
             1,
             "#276419"
            ]
           ],
           "sequential": [
            [
             0,
             "#0d0887"
            ],
            [
             0.1111111111111111,
             "#46039f"
            ],
            [
             0.2222222222222222,
             "#7201a8"
            ],
            [
             0.3333333333333333,
             "#9c179e"
            ],
            [
             0.4444444444444444,
             "#bd3786"
            ],
            [
             0.5555555555555556,
             "#d8576b"
            ],
            [
             0.6666666666666666,
             "#ed7953"
            ],
            [
             0.7777777777777778,
             "#fb9f3a"
            ],
            [
             0.8888888888888888,
             "#fdca26"
            ],
            [
             1,
             "#f0f921"
            ]
           ],
           "sequentialminus": [
            [
             0,
             "#0d0887"
            ],
            [
             0.1111111111111111,
             "#46039f"
            ],
            [
             0.2222222222222222,
             "#7201a8"
            ],
            [
             0.3333333333333333,
             "#9c179e"
            ],
            [
             0.4444444444444444,
             "#bd3786"
            ],
            [
             0.5555555555555556,
             "#d8576b"
            ],
            [
             0.6666666666666666,
             "#ed7953"
            ],
            [
             0.7777777777777778,
             "#fb9f3a"
            ],
            [
             0.8888888888888888,
             "#fdca26"
            ],
            [
             1,
             "#f0f921"
            ]
           ]
          },
          "colorway": [
           "#636efa",
           "#EF553B",
           "#00cc96",
           "#ab63fa",
           "#FFA15A",
           "#19d3f3",
           "#FF6692",
           "#B6E880",
           "#FF97FF",
           "#FECB52"
          ],
          "font": {
           "color": "#2a3f5f"
          },
          "geo": {
           "bgcolor": "white",
           "lakecolor": "white",
           "landcolor": "#E5ECF6",
           "showlakes": true,
           "showland": true,
           "subunitcolor": "white"
          },
          "hoverlabel": {
           "align": "left"
          },
          "hovermode": "closest",
          "mapbox": {
           "style": "light"
          },
          "paper_bgcolor": "white",
          "plot_bgcolor": "#E5ECF6",
          "polar": {
           "angularaxis": {
            "gridcolor": "white",
            "linecolor": "white",
            "ticks": ""
           },
           "bgcolor": "#E5ECF6",
           "radialaxis": {
            "gridcolor": "white",
            "linecolor": "white",
            "ticks": ""
           }
          },
          "scene": {
           "xaxis": {
            "backgroundcolor": "#E5ECF6",
            "gridcolor": "white",
            "gridwidth": 2,
            "linecolor": "white",
            "showbackground": true,
            "ticks": "",
            "zerolinecolor": "white"
           },
           "yaxis": {
            "backgroundcolor": "#E5ECF6",
            "gridcolor": "white",
            "gridwidth": 2,
            "linecolor": "white",
            "showbackground": true,
            "ticks": "",
            "zerolinecolor": "white"
           },
           "zaxis": {
            "backgroundcolor": "#E5ECF6",
            "gridcolor": "white",
            "gridwidth": 2,
            "linecolor": "white",
            "showbackground": true,
            "ticks": "",
            "zerolinecolor": "white"
           }
          },
          "shapedefaults": {
           "line": {
            "color": "#2a3f5f"
           }
          },
          "ternary": {
           "aaxis": {
            "gridcolor": "white",
            "linecolor": "white",
            "ticks": ""
           },
           "baxis": {
            "gridcolor": "white",
            "linecolor": "white",
            "ticks": ""
           },
           "bgcolor": "#E5ECF6",
           "caxis": {
            "gridcolor": "white",
            "linecolor": "white",
            "ticks": ""
           }
          },
          "title": {
           "x": 0.05
          },
          "xaxis": {
           "automargin": true,
           "gridcolor": "white",
           "linecolor": "white",
           "ticks": "",
           "title": {
            "standoff": 15
           },
           "zerolinecolor": "white",
           "zerolinewidth": 2
          },
          "yaxis": {
           "automargin": true,
           "gridcolor": "white",
           "linecolor": "white",
           "ticks": "",
           "title": {
            "standoff": 15
           },
           "zerolinecolor": "white",
           "zerolinewidth": 2
          }
         }
        },
        "title": {
         "text": "Terrorist Attacks by Group"
        }
       }
      }
     },
     "metadata": {},
     "output_type": "display_data"
    }
   ],
   "source": [
    "# Group the data by terrorist group and count the number of attacks\n",
    "group_counts = data2['Group'].value_counts().reset_index()\n",
    "group_counts.columns = ['Group', 'Attack Count']\n",
    "\n",
    "# Create the sunburst chart\n",
    "fig = go.Figure(go.Sunburst(\n",
    "    labels=group_counts['Group'],\n",
    "    parents=[\"\" for _ in group_counts['Group']],\n",
    "    values=group_counts['Attack Count']\n",
    "))\n",
    "\n",
    "fig.update_layout(\n",
    "    title='Terrorist Attacks by Group',\n",
    "    hovermode='closest'\n",
    ")\n",
    "\n",
    "fig.show()"
   ]
  },
  {
   "cell_type": "markdown",
   "metadata": {},
   "source": [
    "The sunburst chart presents a hierarchical view of terrorist groups and their distribution. The chart showcases the relationships between groups at different levels, allowing you to explore the composition and structure of the network. By interacting with the chart, you can navigate through the hierarchy and gain insights into the distribution of attacks across different groups."
   ]
  },
  {
   "cell_type": "markdown",
   "metadata": {},
   "source": [
    "# Word Cloud:\n",
    "- An interactive word cloud to visualize the most frequently mentioned targets, motives, or summaries of terrorist attacks. Use the Wordcloud library to create the interactive word cloud."
   ]
  },
  {
   "cell_type": "code",
   "execution_count": null,
   "metadata": {},
   "outputs": [],
   "source": [
    "# make sure to install the wordcloud library using the below command for windows\n",
    "pip install wordcloud"
   ]
  },
  {
   "cell_type": "code",
   "execution_count": 39,
   "metadata": {},
   "outputs": [
    {
     "data": {
      "image/png": "[encoded data removed]",
      "text/plain": [
       "<Figure size 1000x500 with 1 Axes>"
      ]
     },
     "metadata": {},
     "output_type": "display_data"
    }
   ],
   "source": [
    "from wordcloud import WordCloud\n",
    "\n",
    "# Concatenate the target, motive, and summary columns\n",
    "text = data2['Target'].astype(str) + ' ' + data2['Motive'].astype(str) + ' ' + data2['Summary'].astype(str)\n",
    "text = ' '.join(text)\n",
    "\n",
    "# Generate the word cloud\n",
    "wordcloud = WordCloud(width=800, height=400, max_font_size=150, background_color='white').generate(text)\n",
    "\n",
    "# Plot the word cloud\n",
    "plt.figure(figsize=(10, 5))\n",
    "plt.imshow(wordcloud, interpolation='bilinear')\n",
    "plt.axis('off')\n",
    "plt.title('Most Frequent Words in Targets, Motives, and Summaries')\n",
    "plt.show()"
   ]
  },
  {
   "cell_type": "markdown",
   "metadata": {},
   "source": [
    "Lastly the word cloud provides a visual representation of the most frequently mentioned words in the targets, motives, and summaries of terrorist attacks. The size and prominence of each word in the cloud reflect its frequency or importance. This plot allows you to quickly identify common themes or terms associated with the attacks, providing a concise summary of the textual data."
   ]
  },
  {
   "cell_type": "markdown",
   "metadata": {},
   "source": [
    "These plots offer different perspectives and insights into the global terrorism dataset. They help in understanding the geographical distribution of attacks, temporal trends, attack types, group hierarchy, and prominent themes. Each plot provides a unique visualization that aids in exploring and analyzing the dataset from different angles."
   ]
  },
  {
   "cell_type": "markdown",
   "metadata": {},
   "source": [
    "### lastly the link to the dataset is below:\n",
    "- https://www.kaggle.com/datasets/START-UMD/gtd"
   ]
  }
 ],
 "metadata": {
  "kernelspec": {
   "display_name": "Python 3",
   "language": "python",
   "name": "python3"
  },
  "language_info": {
   "codemirror_mode": {
    "name": "ipython",
    "version": 3
   },
   "file_extension": ".py",
   "mimetype": "text/x-python",
   "name": "python",
   "nbconvert_exporter": "python",
   "pygments_lexer": "ipython3",
   "version": "3.11.1"
  },
  "orig_nbformat": 4
 },
 "nbformat": 4,
 "nbformat_minor": 2
}
